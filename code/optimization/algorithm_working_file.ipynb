{
 "cells": [
  {
   "cell_type": "markdown",
   "metadata": {},
   "source": [
    "# Working on Basic Algorithm Fitting"
   ]
  },
  {
   "cell_type": "markdown",
   "metadata": {},
   "source": [
    "The goal is to start testing some basic framework, first with a sample made-up set of inputs and data, then generalize to our official set locally, and finally work on integration with front end and perhaps distributed approach."
   ]
  },
  {
   "cell_type": "code",
   "execution_count": 12,
   "metadata": {
    "collapsed": true,
    "scrolled": true
   },
   "outputs": [],
   "source": [
    "%matplotlib inline\n",
    "\n",
    "import numpy as np\n",
    "import scipy as sp\n",
    "import numpy as np\n",
    "import pandas as pd\n",
    "import random as rd\n",
    "import itertools\n",
    "import re\n",
    "import matplotlib.pyplot as plt"
   ]
  },
  {
   "cell_type": "markdown",
   "metadata": {},
   "source": [
    "### Create Inputs\n"
   ]
  },
  {
   "cell_type": "code",
   "execution_count": 2,
   "metadata": {
    "collapsed": true
   },
   "outputs": [],
   "source": [
    "# basic macro requirement based on https://www.bodybuilding.com/fun/macronutrients_calculator.htm\n",
    "# given in grams\n",
    "# assume 5 day work week\n",
    "\n",
    "daily_macro_nutrients = {'carb': 433, 'protein': 289, 'fat': 107}\n",
    "weekly_macro_nutrients = dict([(x, daily_macro_nutrients[x]*5) for x in daily_macro_nutrients.keys()])\n",
    "\n",
    "recipes = {}\n",
    "\n",
    "for i in range(25):\n",
    "    key_name = 'recipe'+str(i)\n",
    "    rd.seed(i)\n",
    "    macros = rd.sample(range(30), 3)\n",
    "    recipes[key_name] ={'carb': macros[0], 'protein': macros[1], 'fat': macros[2]}"
   ]
  },
  {
   "cell_type": "code",
   "execution_count": 3,
   "metadata": {},
   "outputs": [
    {
     "data": {
      "text/plain": [
       "{'carb': 2165, 'fat': 535, 'protein': 1445}"
      ]
     },
     "execution_count": 3,
     "metadata": {},
     "output_type": "execute_result"
    }
   ],
   "source": [
    "weekly_macro_nutrients"
   ]
  },
  {
   "cell_type": "code",
   "execution_count": 4,
   "metadata": {},
   "outputs": [
    {
     "data": {
      "text/plain": [
       "{'recipe0': {'carb': 25, 'fat': 12, 'protein': 22},\n",
       " 'recipe1': {'carb': 4, 'fat': 22, 'protein': 25},\n",
       " 'recipe10': {'carb': 17, 'fat': 6, 'protein': 12},\n",
       " 'recipe11': {'carb': 13, 'fat': 27, 'protein': 16},\n",
       " 'recipe12': {'carb': 14, 'fat': 4, 'protein': 19},\n",
       " 'recipe13': {'carb': 7, 'fat': 25, 'protein': 20},\n",
       " 'recipe14': {'carb': 3, 'fat': 19, 'protein': 21},\n",
       " 'recipe15': {'carb': 28, 'fat': 22, 'protein': 0},\n",
       " 'recipe16': {'carb': 10, 'fat': 12, 'protein': 14},\n",
       " 'recipe17': {'carb': 15, 'fat': 28, 'protein': 24},\n",
       " 'recipe18': {'carb': 5, 'fat': 10, 'protein': 19},\n",
       " 'recipe19': {'carb': 20, 'fat': 15, 'protein': 23},\n",
       " 'recipe2': {'carb': 28, 'fat': 2, 'protein': 1},\n",
       " 'recipe20': {'carb': 27, 'fat': 22, 'protein': 20},\n",
       " 'recipe21': {'carb': 4, 'fat': 19, 'protein': 20},\n",
       " 'recipe22': {'carb': 28, 'fat': 0, 'protein': 4},\n",
       " 'recipe23': {'carb': 27, 'fat': 26, 'protein': 28},\n",
       " 'recipe24': {'carb': 21, 'fat': 5, 'protein': 25},\n",
       " 'recipe3': {'carb': 7, 'fat': 11, 'protein': 16},\n",
       " 'recipe4': {'carb': 7, 'fat': 11, 'protein': 3},\n",
       " 'recipe5': {'carb': 18, 'fat': 23, 'protein': 22},\n",
       " 'recipe6': {'carb': 23, 'fat': 14, 'protein': 24},\n",
       " 'recipe7': {'carb': 9, 'fat': 19, 'protein': 4},\n",
       " 'recipe8': {'carb': 6, 'fat': 3, 'protein': 28},\n",
       " 'recipe9': {'carb': 13, 'fat': 4, 'protein': 11}}"
      ]
     },
     "execution_count": 4,
     "metadata": {},
     "output_type": "execute_result"
    }
   ],
   "source": [
    "recipes"
   ]
  },
  {
   "cell_type": "markdown",
   "metadata": {},
   "source": [
    "Now consider a simple loss function on similarity.  Greedy search to minimize total difference in target nutrients, no preference to what is omitted to start.  Simplifying assumption that cannot have partial units of recipe."
   ]
  },
  {
   "cell_type": "code",
   "execution_count": 5,
   "metadata": {
    "collapsed": true
   },
   "outputs": [],
   "source": [
    "current_nutrients = {'carb': 0, 'protein': 0, 'fat': 0}\n",
    "total_loss = weekly_macro_nutrients"
   ]
  },
  {
   "cell_type": "markdown",
   "metadata": {},
   "source": [
    "Simulate the removal of certain recipes due to ingredient lacking. "
   ]
  },
  {
   "cell_type": "code",
   "execution_count": 6,
   "metadata": {
    "collapsed": true
   },
   "outputs": [],
   "source": [
    "rd.seed(45)\n",
    "removal_indices = rd.sample(range(25), 13)\n",
    "available_recipes = {}\n",
    "for key in recipes.keys():\n",
    "    numerical_id = re.match(r\"([a-z]+)([0-9]+)\", key, re.I).groups()[1]\n",
    "    \n",
    "    if int(numerical_id) not in removal_indices:\n",
    "        available_recipes[key] = recipes[key]"
   ]
  },
  {
   "cell_type": "code",
   "execution_count": 7,
   "metadata": {},
   "outputs": [
    {
     "data": {
      "text/plain": [
       "{'recipe10': {'carb': 17, 'fat': 6, 'protein': 12},\n",
       " 'recipe12': {'carb': 14, 'fat': 4, 'protein': 19},\n",
       " 'recipe13': {'carb': 7, 'fat': 25, 'protein': 20},\n",
       " 'recipe14': {'carb': 3, 'fat': 19, 'protein': 21},\n",
       " 'recipe15': {'carb': 28, 'fat': 22, 'protein': 0},\n",
       " 'recipe16': {'carb': 10, 'fat': 12, 'protein': 14},\n",
       " 'recipe17': {'carb': 15, 'fat': 28, 'protein': 24},\n",
       " 'recipe21': {'carb': 4, 'fat': 19, 'protein': 20},\n",
       " 'recipe24': {'carb': 21, 'fat': 5, 'protein': 25},\n",
       " 'recipe3': {'carb': 7, 'fat': 11, 'protein': 16},\n",
       " 'recipe4': {'carb': 7, 'fat': 11, 'protein': 3},\n",
       " 'recipe9': {'carb': 13, 'fat': 4, 'protein': 11}}"
      ]
     },
     "execution_count": 7,
     "metadata": {},
     "output_type": "execute_result"
    }
   ],
   "source": [
    "available_recipes"
   ]
  },
  {
   "cell_type": "markdown",
   "metadata": {},
   "source": [
    "Think there is some assumption of minimum number of recipes to ensure we dont just end up with one recipe that generically scales and matches all macro count.  "
   ]
  },
  {
   "cell_type": "code",
   "execution_count": null,
   "metadata": {
    "collapsed": true
   },
   "outputs": [],
   "source": [
    "def optimize_with_count_n(number_recipes, possible_list, target_nutrs):\n",
    "    recipe_combination = list(itertools.combinations(possible_list, number_recipes))\n",
    "    cleaned_combination = [x[0] for x in recipe_combination]\n",
    "    for recipes in cleaned_combination:\n",
    "        "
   ]
  },
  {
   "cell_type": "code",
   "execution_count": 8,
   "metadata": {
    "collapsed": true
   },
   "outputs": [],
   "source": [
    "number_recipes, possible_list, target_nutrs = 1, available_recipes, weekly_macro_nutrients"
   ]
  },
  {
   "cell_type": "code",
   "execution_count": 24,
   "metadata": {},
   "outputs": [],
   "source": [
    "recipe_combination = list(itertools.combinations(possible_list, number_recipes))\n",
    "cleaned_combination = [x[0] for x in recipe_combination]"
   ]
  },
  {
   "cell_type": "code",
   "execution_count": 25,
   "metadata": {},
   "outputs": [
    {
     "data": {
      "text/plain": [
       "['recipe9',\n",
       " 'recipe3',\n",
       " 'recipe4',\n",
       " 'recipe15',\n",
       " 'recipe14',\n",
       " 'recipe17',\n",
       " 'recipe16',\n",
       " 'recipe10',\n",
       " 'recipe13',\n",
       " 'recipe12',\n",
       " 'recipe24',\n",
       " 'recipe21']"
      ]
     },
     "execution_count": 25,
     "metadata": {},
     "output_type": "execute_result"
    }
   ],
   "source": [
    "cleaned_combination"
   ]
  }
 ],
 "metadata": {
  "anaconda-cloud": {},
  "kernelspec": {
   "display_name": "Python 2",
   "language": "python",
   "name": "python2"
  },
  "language_info": {
   "codemirror_mode": {
    "name": "ipython",
    "version": 2
   },
   "file_extension": ".py",
   "mimetype": "text/x-python",
   "name": "python",
   "nbconvert_exporter": "python",
   "pygments_lexer": "ipython2",
   "version": "2.7.14"
  }
 },
 "nbformat": 4,
 "nbformat_minor": 1
}
