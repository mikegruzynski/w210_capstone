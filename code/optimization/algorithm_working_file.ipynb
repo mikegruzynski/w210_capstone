{
 "cells": [
  {
   "cell_type": "markdown",
   "metadata": {},
   "source": [
    "# Working on Basic Algorithm Fitting"
   ]
  },
  {
   "cell_type": "markdown",
   "metadata": {},
   "source": [
    "The goal is to start testing some basic framework, first with a sample made-up set of inputs and data, then generalize to our official set locally, and finally work on integration with front end and perhaps distributed approach."
   ]
  },
  {
   "cell_type": "code",
   "execution_count": 1,
   "metadata": {
    "collapsed": true,
    "scrolled": true
   },
   "outputs": [],
   "source": [
    "%matplotlib inline\n",
    "\n",
    "import numpy as np\n",
    "import scipy as sp\n",
    "import numpy as np\n",
    "import pandas as pd\n",
    "import random as rd\n",
    "import itertools\n",
    "import re\n",
    "import matplotlib.pyplot as plt\n",
    "from scipy.optimize import linprog"
   ]
  },
  {
   "cell_type": "markdown",
   "metadata": {},
   "source": [
    "### Create Inputs\n"
   ]
  },
  {
   "cell_type": "code",
   "execution_count": 2,
   "metadata": {
    "collapsed": true
   },
   "outputs": [],
   "source": [
    "# basic macro requirement based on https://www.bodybuilding.com/fun/macronutrients_calculator.htm\n",
    "# given in grams\n",
    "# assume 5 day work week\n",
    "\n",
    "daily_macro_nutrients = {'carb': 433, 'protein': 289, 'fat': 107}\n",
    "weekly_macro_nutrients = dict([(x, daily_macro_nutrients[x]*5) for x in daily_macro_nutrients.keys()])\n",
    "\n",
    "recipes = {}\n",
    "\n",
    "for i in range(25):\n",
    "    key_name = 'recipe'+str(i)\n",
    "    rd.seed(i)\n",
    "    macros = rd.sample(range(30), 3)\n",
    "    recipes[key_name] ={'carb': macros[0], 'protein': macros[1], 'fat': macros[2]}"
   ]
  },
  {
   "cell_type": "code",
   "execution_count": 3,
   "metadata": {},
   "outputs": [
    {
     "data": {
      "text/plain": [
       "{'carb': 2165, 'fat': 535, 'protein': 1445}"
      ]
     },
     "execution_count": 3,
     "metadata": {},
     "output_type": "execute_result"
    }
   ],
   "source": [
    "weekly_macro_nutrients"
   ]
  },
  {
   "cell_type": "code",
   "execution_count": 4,
   "metadata": {},
   "outputs": [
    {
     "data": {
      "text/plain": [
       "{'recipe0': {'carb': 25, 'fat': 12, 'protein': 22},\n",
       " 'recipe1': {'carb': 4, 'fat': 22, 'protein': 25},\n",
       " 'recipe10': {'carb': 17, 'fat': 6, 'protein': 12},\n",
       " 'recipe11': {'carb': 13, 'fat': 27, 'protein': 16},\n",
       " 'recipe12': {'carb': 14, 'fat': 4, 'protein': 19},\n",
       " 'recipe13': {'carb': 7, 'fat': 25, 'protein': 20},\n",
       " 'recipe14': {'carb': 3, 'fat': 19, 'protein': 21},\n",
       " 'recipe15': {'carb': 28, 'fat': 22, 'protein': 0},\n",
       " 'recipe16': {'carb': 10, 'fat': 12, 'protein': 14},\n",
       " 'recipe17': {'carb': 15, 'fat': 28, 'protein': 24},\n",
       " 'recipe18': {'carb': 5, 'fat': 10, 'protein': 19},\n",
       " 'recipe19': {'carb': 20, 'fat': 15, 'protein': 23},\n",
       " 'recipe2': {'carb': 28, 'fat': 2, 'protein': 1},\n",
       " 'recipe20': {'carb': 27, 'fat': 22, 'protein': 20},\n",
       " 'recipe21': {'carb': 4, 'fat': 19, 'protein': 20},\n",
       " 'recipe22': {'carb': 28, 'fat': 0, 'protein': 4},\n",
       " 'recipe23': {'carb': 27, 'fat': 26, 'protein': 28},\n",
       " 'recipe24': {'carb': 21, 'fat': 5, 'protein': 25},\n",
       " 'recipe3': {'carb': 7, 'fat': 11, 'protein': 16},\n",
       " 'recipe4': {'carb': 7, 'fat': 11, 'protein': 3},\n",
       " 'recipe5': {'carb': 18, 'fat': 23, 'protein': 22},\n",
       " 'recipe6': {'carb': 23, 'fat': 14, 'protein': 24},\n",
       " 'recipe7': {'carb': 9, 'fat': 19, 'protein': 4},\n",
       " 'recipe8': {'carb': 6, 'fat': 3, 'protein': 28},\n",
       " 'recipe9': {'carb': 13, 'fat': 4, 'protein': 11}}"
      ]
     },
     "execution_count": 4,
     "metadata": {},
     "output_type": "execute_result"
    }
   ],
   "source": [
    "recipes"
   ]
  },
  {
   "cell_type": "markdown",
   "metadata": {},
   "source": [
    "Now consider a simple loss function on similarity.  Greedy search to minimize total difference in target nutrients, no preference to what is omitted to start.  Simplifying assumption that cannot have partial units of recipe."
   ]
  },
  {
   "cell_type": "code",
   "execution_count": 6,
   "metadata": {
    "collapsed": true
   },
   "outputs": [],
   "source": [
    "current_nutrients = {'carb': 0, 'protein': 0, 'fat': 0}\n",
    "total_loss = weekly_macro_nutrients"
   ]
  },
  {
   "cell_type": "markdown",
   "metadata": {},
   "source": [
    "Simulate the removal of certain recipes due to ingredient lacking. "
   ]
  },
  {
   "cell_type": "code",
   "execution_count": 7,
   "metadata": {
    "collapsed": true
   },
   "outputs": [],
   "source": [
    "rd.seed(45)\n",
    "removal_indices = rd.sample(range(25), 13)\n",
    "available_recipes = {}\n",
    "for key in recipes.keys():\n",
    "    numerical_id = re.match(r\"([a-z]+)([0-9]+)\", key, re.I).groups()[1]\n",
    "    \n",
    "    if int(numerical_id) not in removal_indices:\n",
    "        available_recipes[key] = recipes[key]"
   ]
  },
  {
   "cell_type": "code",
   "execution_count": 8,
   "metadata": {},
   "outputs": [
    {
     "data": {
      "text/plain": [
       "{'recipe10': {'carb': 17, 'fat': 6, 'protein': 12},\n",
       " 'recipe12': {'carb': 14, 'fat': 4, 'protein': 19},\n",
       " 'recipe13': {'carb': 7, 'fat': 25, 'protein': 20},\n",
       " 'recipe14': {'carb': 3, 'fat': 19, 'protein': 21},\n",
       " 'recipe15': {'carb': 28, 'fat': 22, 'protein': 0},\n",
       " 'recipe16': {'carb': 10, 'fat': 12, 'protein': 14},\n",
       " 'recipe17': {'carb': 15, 'fat': 28, 'protein': 24},\n",
       " 'recipe21': {'carb': 4, 'fat': 19, 'protein': 20},\n",
       " 'recipe24': {'carb': 21, 'fat': 5, 'protein': 25},\n",
       " 'recipe3': {'carb': 7, 'fat': 11, 'protein': 16},\n",
       " 'recipe4': {'carb': 7, 'fat': 11, 'protein': 3},\n",
       " 'recipe9': {'carb': 13, 'fat': 4, 'protein': 11}}"
      ]
     },
     "execution_count": 8,
     "metadata": {},
     "output_type": "execute_result"
    }
   ],
   "source": [
    "available_recipes"
   ]
  },
  {
   "cell_type": "markdown",
   "metadata": {},
   "source": [
    "Think there is some assumption of minimum number of recipes to ensure we dont just end up with one recipe that generically scales and matches all macro count.  "
   ]
  },
  {
   "cell_type": "code",
   "execution_count": 37,
   "metadata": {},
   "outputs": [],
   "source": [
    "def optimize_with_single_n(possible_list, target_nutrs):\n",
    "    recipe_combination = list(itertools.combinations(possible_list, 1))\n",
    "    cleaned_combination = [x[0] for x in recipe_combination]\n",
    "    \n",
    "    best_loss = {'carb': 1000, 'protein': 1000, 'fat': 1000}\n",
    "    for iteration in cleaned_combination:\n",
    "        \n",
    "        recipe = possible_list[iteration]\n",
    "        current_carb, current_protein, current_fat = 0, 0, 0\n",
    "        \n",
    "        next_carb = current_carb + recipe['carb']\n",
    "        next_protein = current_protein + recipe['protein']\n",
    "        next_fat = current_fat + recipe['fat']\n",
    "        \n",
    "        if next_carb > target_nutrs['carb'] or next_protein > target_nutrs['protein'] or next_fat > target_nutrs['fat']:\n",
    "            print 'This recipe does not fit the target nutrients'\n",
    "        \n",
    "        count = 1\n",
    "        while next_carb <= target_nutrs['carb'] and next_protein <= target_nutrs['protein'] and next_fat <= target_nutrs['fat']:\n",
    "            current_carb = next_carb\n",
    "            current_protein = next_protein\n",
    "            current_fat = next_fat\n",
    "            \n",
    "            next_carb = current_carb + recipe['carb']\n",
    "            next_protein = current_protein + recipe['protein']\n",
    "            next_fat = current_fat + recipe['fat']\n",
    "            count += 1\n",
    "    \n",
    "    \n",
    "        carb_loss = str(target_nutrs['carb'] - current_carb)\n",
    "        protein_loss = str(target_nutrs['protein'] - current_protein)\n",
    "        fat_loss = str(target_nutrs['fat'] - current_fat)\n",
    "        \n",
    "        \n",
    "        print 'For '+str(count)+\" servings of \"+iteration+\" carb is \"+str(current_carb)+\", protein is \"+str(current_protein)+\", fat is \"+str(current_fat)+\".\"\n",
    "        print 'Loss is '+carb_loss+' carbs, '+protein_loss+' protein, '+fat_loss+' fat.'\n",
    "        print '\\n'\n",
    "            "
   ]
  },
  {
   "cell_type": "code",
   "execution_count": 38,
   "metadata": {},
   "outputs": [
    {
     "name": "stdout",
     "output_type": "stream",
     "text": [
      "For 132 servings of recipe9 carb is 1703, protein is 1441, fat is 524.\n",
      "Loss is 462 carbs, 4 protein, 11 fat.\n",
      "\n",
      "\n",
      "For 49 servings of recipe3 carb is 336, protein is 768, fat is 528.\n",
      "Loss is 1829 carbs, 677 protein, 7 fat.\n",
      "\n",
      "\n",
      "For 49 servings of recipe4 carb is 336, protein is 144, fat is 528.\n",
      "Loss is 1829 carbs, 1301 protein, 7 fat.\n",
      "\n",
      "\n",
      "For 25 servings of recipe15 carb is 672, protein is 0, fat is 528.\n",
      "Loss is 1493 carbs, 1445 protein, 7 fat.\n",
      "\n",
      "\n",
      "For 29 servings of recipe14 carb is 84, protein is 588, fat is 532.\n",
      "Loss is 2081 carbs, 857 protein, 3 fat.\n",
      "\n",
      "\n",
      "For 20 servings of recipe17 carb is 285, protein is 456, fat is 532.\n",
      "Loss is 1880 carbs, 989 protein, 3 fat.\n",
      "\n",
      "\n",
      "For 45 servings of recipe16 carb is 440, protein is 616, fat is 528.\n",
      "Loss is 1725 carbs, 829 protein, 7 fat.\n",
      "\n",
      "\n",
      "For 90 servings of recipe10 carb is 1513, protein is 1068, fat is 534.\n",
      "Loss is 652 carbs, 377 protein, 1 fat.\n",
      "\n",
      "\n",
      "For 22 servings of recipe13 carb is 147, protein is 420, fat is 525.\n",
      "Loss is 2018 carbs, 1025 protein, 10 fat.\n",
      "\n",
      "\n",
      "For 77 servings of recipe12 carb is 1064, protein is 1444, fat is 304.\n",
      "Loss is 1101 carbs, 1 protein, 231 fat.\n",
      "\n",
      "\n",
      "For 58 servings of recipe24 carb is 1197, protein is 1425, fat is 285.\n",
      "Loss is 968 carbs, 20 protein, 250 fat.\n",
      "\n",
      "\n",
      "For 29 servings of recipe21 carb is 112, protein is 560, fat is 532.\n",
      "Loss is 2053 carbs, 885 protein, 3 fat.\n",
      "\n",
      "\n"
     ]
    }
   ],
   "source": [
    "optimize_with_single_n(available_recipes, weekly_macro_nutrients)"
   ]
  },
  {
   "cell_type": "markdown",
   "metadata": {
    "collapsed": true
   },
   "source": [
    "Next attempt to generalize to passing a set number of recipes and finding optimal combination of each set to minimize distance to target nutrients.  The thought is that this can then be easily extended to input of number main dishes, sides, etc.  We still assume an equality of nutrient in that there is no preference between what is minimized.  Later this could be changed based on diet preference, i.e. if I select Keto, I could have a preference band to allow 100g of extra fat and protien in order to minimize carbs. "
   ]
  },
  {
   "cell_type": "code",
   "execution_count": 53,
   "metadata": {
    "collapsed": true
   },
   "outputs": [],
   "source": [
    "def optimize_with_multiple_n(possible_list, target_nutrs, number_recipes):\n",
    "    \n",
    "    recipe_combination = list(itertools.combinations(possible_list, number_recipes))\n",
    "    cleaned_combination = recipe_combination\n",
    "    \n",
    "    for iteration in cleaned_combination:\n",
    "        \n",
    "        macro_vector = [(possible_list[x]['carb'], possible_list[x]['protein'], possible_list[x]['fat']) for x in iteration]\n",
    "        c = [carbs, protein, fat]\n",
    "        A = c\n",
    "        b = [target_nutrs['carb'], target_nutrs['protein'], target_nutrs['fat']]\n",
    "        \n",
    "        "
   ]
  },
  {
   "cell_type": "code",
   "execution_count": 63,
   "metadata": {},
   "outputs": [],
   "source": [
    "possible_list= available_recipes\n",
    "target_nutrs = weekly_macro_nutrients\n",
    "number_recipes = 2\n",
    "recipe_combination = list(itertools.combinations(possible_list, number_recipes))\n",
    "cleaned_combination = recipe_combination\n",
    "iteration = cleaned_combination[0]\n",
    "macro_vector = [(possible_list[x]['carb'], possible_list[x]['protein'], possible_list[x]['fat']) for x in iteration]"
   ]
  },
  {
   "cell_type": "code",
   "execution_count": 64,
   "metadata": {},
   "outputs": [
    {
     "data": {
      "text/plain": [
       "[(13, 11, 4), (7, 16, 11)]"
      ]
     },
     "execution_count": 64,
     "metadata": {},
     "output_type": "execute_result"
    }
   ],
   "source": [
    "macro_vector"
   ]
  },
  {
   "cell_type": "code",
   "execution_count": 70,
   "metadata": {
    "collapsed": true
   },
   "outputs": [],
   "source": [
    "carbs = [x[0] for x in macro_vector]\n",
    "protein = [x[1] for x in macro_vector]\n",
    "fat = [x[2] for x in macro_vector]\n",
    "c = [carbs, protein, fat]\n",
    "A = c\n",
    "b = [target_nutrs['carb'], target_nutrs['protein'], target_nutrs['fat']]\n",
    "x0_bounds = (0, None)\n",
    "x1_bounds = (0, None)"
   ]
  },
  {
   "cell_type": "code",
   "execution_count": 75,
   "metadata": {},
   "outputs": [
    {
     "data": {
      "text/plain": [
       "[[13, 7], [11, 16], [4, 11]]"
      ]
     },
     "execution_count": 75,
     "metadata": {},
     "output_type": "execute_result"
    }
   ],
   "source": [
    "A"
   ]
  },
  {
   "cell_type": "code",
   "execution_count": 73,
   "metadata": {},
   "outputs": [
    {
     "ename": "ValueError",
     "evalue": "Invalid input for linprog with method = 'simplex'.  Number of columns in A_ub must be equal to the size of c",
     "output_type": "error",
     "traceback": [
      "\u001b[1;31m---------------------------------------------------------------------------\u001b[0m",
      "\u001b[1;31mValueError\u001b[0m                                Traceback (most recent call last)",
      "\u001b[1;32m<ipython-input-73-f1eaf6005ad8>\u001b[0m in \u001b[0;36m<module>\u001b[1;34m()\u001b[0m\n\u001b[1;32m----> 1\u001b[1;33m \u001b[0mres\u001b[0m \u001b[1;33m=\u001b[0m \u001b[0mlinprog\u001b[0m\u001b[1;33m(\u001b[0m\u001b[0mc\u001b[0m\u001b[1;33m,\u001b[0m \u001b[0mA\u001b[0m\u001b[1;33m,\u001b[0m \u001b[0mb\u001b[0m\u001b[1;33m,\u001b[0m \u001b[0mbounds\u001b[0m\u001b[1;33m=\u001b[0m\u001b[1;33m(\u001b[0m\u001b[0mx0_bounds\u001b[0m\u001b[1;33m,\u001b[0m \u001b[0mx1_bounds\u001b[0m\u001b[1;33m)\u001b[0m\u001b[1;33m,\u001b[0m \u001b[0moptions\u001b[0m\u001b[1;33m=\u001b[0m\u001b[1;33m{\u001b[0m\u001b[1;34m\"disp\"\u001b[0m\u001b[1;33m:\u001b[0m \u001b[0mTrue\u001b[0m\u001b[1;33m}\u001b[0m\u001b[1;33m)\u001b[0m\u001b[1;33m\u001b[0m\u001b[0m\n\u001b[0m",
      "\u001b[1;32mC:\\Users\\maxst\\Anaconda2Fix\\lib\\site-packages\\scipy\\optimize\\_linprog.pyc\u001b[0m in \u001b[0;36mlinprog\u001b[1;34m(c, A_ub, b_ub, A_eq, b_eq, bounds, method, callback, options)\u001b[0m\n\u001b[0;32m    991\u001b[0m     \u001b[1;32mif\u001b[0m \u001b[0mmeth\u001b[0m \u001b[1;33m==\u001b[0m \u001b[1;34m'simplex'\u001b[0m\u001b[1;33m:\u001b[0m\u001b[1;33m\u001b[0m\u001b[0m\n\u001b[0;32m    992\u001b[0m         return _linprog_simplex(c, A_ub=A_ub, b_ub=b_ub, A_eq=A_eq, b_eq=b_eq,\n\u001b[1;32m--> 993\u001b[1;33m                                 bounds=bounds, callback=callback, **options)\n\u001b[0m\u001b[0;32m    994\u001b[0m     \u001b[1;32melse\u001b[0m\u001b[1;33m:\u001b[0m\u001b[1;33m\u001b[0m\u001b[0m\n\u001b[0;32m    995\u001b[0m         \u001b[1;32mraise\u001b[0m \u001b[0mValueError\u001b[0m\u001b[1;33m(\u001b[0m\u001b[1;34m'Unknown solver %s'\u001b[0m \u001b[1;33m%\u001b[0m \u001b[0mmethod\u001b[0m\u001b[1;33m)\u001b[0m\u001b[1;33m\u001b[0m\u001b[0m\n",
      "\u001b[1;32mC:\\Users\\maxst\\Anaconda2Fix\\lib\\site-packages\\scipy\\optimize\\_linprog.pyc\u001b[0m in \u001b[0;36m_linprog_simplex\u001b[1;34m(c, A_ub, b_ub, A_eq, b_eq, bounds, maxiter, disp, callback, tol, bland, **unknown_options)\u001b[0m\n\u001b[0;32m    708\u001b[0m     \u001b[1;32mif\u001b[0m \u001b[0mstatus\u001b[0m \u001b[1;33m!=\u001b[0m \u001b[1;36m0\u001b[0m\u001b[1;33m:\u001b[0m\u001b[1;33m\u001b[0m\u001b[0m\n\u001b[0;32m    709\u001b[0m         \u001b[1;31m# Invalid inputs provided\u001b[0m\u001b[1;33m\u001b[0m\u001b[1;33m\u001b[0m\u001b[0m\n\u001b[1;32m--> 710\u001b[1;33m         \u001b[1;32mraise\u001b[0m \u001b[0mValueError\u001b[0m\u001b[1;33m(\u001b[0m\u001b[0mmessage\u001b[0m\u001b[1;33m)\u001b[0m\u001b[1;33m\u001b[0m\u001b[0m\n\u001b[0m\u001b[0;32m    711\u001b[0m \u001b[1;33m\u001b[0m\u001b[0m\n\u001b[0;32m    712\u001b[0m     \u001b[1;31m# Create the tableau\u001b[0m\u001b[1;33m\u001b[0m\u001b[1;33m\u001b[0m\u001b[0m\n",
      "\u001b[1;31mValueError\u001b[0m: Invalid input for linprog with method = 'simplex'.  Number of columns in A_ub must be equal to the size of c"
     ]
    }
   ],
   "source": [
    "res = linprog(c, A, b, bounds=(x0_bounds, x1_bounds), options={\"disp\": True})"
   ]
  }
 ],
 "metadata": {
  "anaconda-cloud": {},
  "kernelspec": {
   "display_name": "Python 2",
   "language": "python",
   "name": "python2"
  },
  "language_info": {
   "codemirror_mode": {
    "name": "ipython",
    "version": 2
   },
   "file_extension": ".py",
   "mimetype": "text/x-python",
   "name": "python",
   "nbconvert_exporter": "python",
   "pygments_lexer": "ipython2",
   "version": "2.7.14"
  }
 },
 "nbformat": 4,
 "nbformat_minor": 1
}
