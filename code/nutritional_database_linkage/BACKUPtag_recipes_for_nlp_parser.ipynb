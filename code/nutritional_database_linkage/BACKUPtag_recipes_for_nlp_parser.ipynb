{
 "cells": [
  {
   "cell_type": "code",
   "execution_count": 1,
   "metadata": {},
   "outputs": [
    {
     "name": "stdout",
     "output_type": "stream",
     "text": [
      "height has been deprecated.\n",
      "\n"
     ]
    },
    {
     "name": "stderr",
     "output_type": "stream",
     "text": [
      "Using TensorFlow backend.\n"
     ]
    }
   ],
   "source": [
    "import json\n",
    "import pandas as pd\n",
    "pd.set_option('display.height', 1000)\n",
    "pd.set_option('display.max_rows', 500)\n",
    "pd.set_option('display.max_columns', 500)\n",
    "pd.set_option('display.width', 1000)\n",
    "import numpy as np\n",
    "from numpy import array\n",
    "from keras.preprocessing.text import one_hot\n",
    "from keras.preprocessing.sequence import pad_sequences\n",
    "from keras.models import Sequential\n",
    "from keras.layers import Dense\n",
    "from keras.layers import Flatten\n",
    "from keras.layers.embeddings import Embedding\n",
    "from keras.preprocessing.text import Tokenizer\n",
    "import keras.preprocessing.text as kpt\n",
    "import keras\n",
    "import re \n",
    "import numpy, time\n",
    "import random\n",
    "import pickle\n",
    "from keras.models import load_model, model_from_json"
   ]
  },
  {
   "cell_type": "code",
   "execution_count": 2,
   "metadata": {
    "collapsed": true
   },
   "outputs": [],
   "source": [
    "def transform_data_for_tokenizer(recipe_item):\n",
    "    original = recipe_item.lower()\n",
    "    original = re.sub(r'\\s*(\\d+|[./+*-])', '', original)\n",
    "    original_split = original.split(\" \")\n",
    "    remove_list = list(set(original).symmetric_difference(units_of_food_recipe))\n",
    "\n",
    "    keep_list = []\n",
    "    for i in original_split:\n",
    "        if i not in food_size and i not in units_of_food_recipe:\n",
    "            keep_list.append(i)\n",
    "    \n",
    "    original_split = list(filter(None, keep_list))\n",
    "    new = \" \".join(original_split)\n",
    "    return new"
   ]
  },
  {
   "cell_type": "code",
   "execution_count": 3,
   "metadata": {
    "collapsed": true
   },
   "outputs": [],
   "source": [
    "units_of_food_recipe = [\"cups\", \"cup\", \"c.\", \"c\", \n",
    "                        \"fl. oz.\", \"fl oz\", \"fluid ounce\", \"fluid ounces\",\n",
    "                        \"gal\", \"gal.\", \"gallon\", \"gallons\",\n",
    "                        \"oz\", \"oz.\", \"ounce\", \"ounces\", \"ouncs\",\n",
    "                        \"pt\", \"pt.\", \"pint\", \"pints\",\n",
    "                        \"lb\", \"lb.\", \"pound\", \"pounds\",\n",
    "                        \"qt\", \"qt.\", \"qts\", \"qts.\", \"quart\", \"quarts\",\n",
    "                        \"tbsp.\", \"tbsp\", \"T\", \"T.\", \"tablespoon\", \"tablespoons\", \"tbs.\", \"tbs\",\n",
    "                        \"tsp.\", \"tsp\", \"t\", \"t.\", \"teaspoon\", \"teaspoons\",\n",
    "                        \"g\", \"g.\", \"gr\", \"gr.\", \"gram\", \"grams\", \"gramme\", \"grammes\",\n",
    "                        \"kg\", \"kg.\", \"kilogram\", \"kilograms\", \"kilogramme\", \"kilogrammes\",\n",
    "                        \"l\", \"l.\", \"liter\", \"liters\", \"litre\", \"litres\",\n",
    "                        \"mg\", \"mg.\", \"milligram\", \"milligrams\", \"milligramme\", \"milligrammes\",\n",
    "                        \"ml\", \"ml.\", \"milliliter\", \"milliliters\", \"millilitre\", \"millilitres\",\n",
    "                        \"pinch\", \"pinches\", \"dash\", \"dashes\", \"touch\", \"touches\", \"handful\", \"handfuls\",\n",
    "                        \"stick\", \"sticks\",\n",
    "                        \"cans\", \"can\",\n",
    "                        \"to taste\",\n",
    "                        \"scoop\", \"scoops\",\n",
    "                        \"dollop\", \"dollops\",\n",
    "                        \"sprig\", \"sprigs\",\n",
    "                       \"recipe\",\n",
    "                       \"garnish\", \"garnished\",\n",
    "                       \"sprinkle\", \"spinkled\",\n",
    "                       \"slices\",\n",
    "                       \"serving\", \"servings\",\n",
    "                       \"ribs\", \"rib\", \"stalk\",\n",
    "                       \"inch\", \"inches\", \"in.\",\n",
    "                       \"drizzle\", \"drizzled\",\n",
    "                       \"to taste\"]\n",
    "\n",
    "food_size = [\"small\", \"medium\",\n",
    "              \"large\", \"about\"]\n",
    "\n",
    "food_format = [\"slice\", \"sliced\",\n",
    "              \"dice\", \"diced\",\n",
    "              \"peel\", \"peeled\",\n",
    "              \"chop\", \"chopped\",\n",
    "              \"julienne\", \"julienned\",\n",
    "              \"trim\", \"trimmed\",\n",
    "              \"sift\", \"sifted\",\n",
    "              \"freshly\",\n",
    "              \"fine\", \"finely\",\n",
    "              \"drain\", \"drained\",\n",
    "              \"super thinly\", \"thin\", \"thinly\",\n",
    "              \"grate\", \"grated\",\n",
    "              \"seeded\",\n",
    "              \"rinse\", \"rinsed\",\n",
    "              \"smash\", \"smashed\",\n",
    "              \"membrane\", \"removed\",\n",
    "              \"cleaned\",\n",
    "              \"mince\", \"minced\",\n",
    "              \"crush\", \"crushed\",\n",
    "              \"about\", \"around\",\n",
    "              '<hr>']\n",
    "\n",
    "\n",
    "def is_number(s):\n",
    "    try:\n",
    "        float(s)\n",
    "        return True\n",
    "    except ValueError:\n",
    "        return False"
   ]
  },
  {
   "cell_type": "code",
   "execution_count": 4,
   "metadata": {},
   "outputs": [
    {
     "name": "stdout",
     "output_type": "stream",
     "text": [
      "Loaded model from disk\n"
     ]
    }
   ],
   "source": [
    "nlp_df = pd.read_csv(\"../../data/nutrient/compiled/train_nn_df.csv\", index_col=0)\n",
    "master_df = pd.read_csv(\"../../data/nutrient/compiled/nutrition_master_df.csv\")\n",
    "\n",
    "with open('../../data/recipe/recipe_all.json') as f:\n",
    "    recipe_all = json.load(f)\n",
    "    \n",
    "with open('/root/w210_capstone/data/models/NBD_tag_unique_unique_dict.json') as f:\n",
    "        NBD_tag_unique_unique_dict = json.load(f)\n",
    "\n",
    "# loading\n",
    "with open('/root/w210_capstone/data/models/tokenizer.pickle', 'rb') as handle:\n",
    "    tokenizer = pickle.load(handle)\n",
    "    \n",
    "# load json and create model\n",
    "json_file = open('/root/w210_capstone/data/models/model_simple_nn.json', 'r')\n",
    "loaded_model_json = json_file.read()\n",
    "json_file.close()\n",
    "loaded_model = model_from_json(loaded_model_json)\n",
    "\n",
    "# load weights into new model\n",
    "loaded_model.load_weights(\"/root/w210_capstone/data/models/model_simple_nn_WEIGHTS.h5\")\n",
    "print(\"Loaded model from disk\")"
   ]
  },
  {
   "cell_type": "code",
   "execution_count": 6,
   "metadata": {
    "collapsed": true
   },
   "outputs": [],
   "source": []
  },
  {
   "cell_type": "code",
   "execution_count": 49,
   "metadata": {},
   "outputs": [
    {
     "ename": "SyntaxError",
     "evalue": "invalid syntax (<ipython-input-49-df7505eb6e60>, line 1)",
     "output_type": "error",
     "traceback": [
      "\u001b[0;36m  File \u001b[0;32m\"<ipython-input-49-df7505eb6e60>\"\u001b[0;36m, line \u001b[0;32m1\u001b[0m\n\u001b[0;31m    master_df[master_df['NDB_NO'] == \"\\\"{}\\\"\".format(NBD_top_3_list[itr])]['Description'].get_values()[0])\u001b[0m\n\u001b[0m                                                                                                         ^\u001b[0m\n\u001b[0;31mSyntaxError\u001b[0m\u001b[0;31m:\u001b[0m invalid syntax\n"
     ]
    }
   ],
   "source": [
    "master_df[master_df['NDB_NO'] == \"\\\"{}\\\"\".format(NBD_top_3_list[itr])]['Description'].get_values()[0])"
   ]
  },
  {
   "cell_type": "code",
   "execution_count": null,
   "metadata": {
    "collapsed": true
   },
   "outputs": [],
   "source": [
    "master_df = pd.read_csv(\"../../data/nutrient/compiled/nutrition_master_df.csv\")"
   ]
  }
 ],
 "metadata": {
  "kernelspec": {
   "display_name": "Python 3",
   "language": "python",
   "name": "python3"
  },
  "language_info": {
   "codemirror_mode": {
    "name": "ipython",
    "version": 3
   },
   "file_extension": ".py",
   "mimetype": "text/x-python",
   "name": "python",
   "nbconvert_exporter": "python",
   "pygments_lexer": "ipython3",
   "version": "3.6.3"
  }
 },
 "nbformat": 4,
 "nbformat_minor": 2
}
