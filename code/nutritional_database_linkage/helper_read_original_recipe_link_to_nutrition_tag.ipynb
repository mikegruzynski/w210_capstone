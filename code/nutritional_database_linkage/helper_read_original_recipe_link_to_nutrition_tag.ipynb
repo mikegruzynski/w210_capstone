{
 "cells": [
  {
   "cell_type": "code",
   "execution_count": 1,
   "metadata": {
    "collapsed": true
   },
   "outputs": [],
   "source": [
    "import json\n",
    "import pandas as pd\n",
    "import numpy as np\n",
    "import re "
   ]
  },
  {
   "cell_type": "code",
   "execution_count": 2,
   "metadata": {
    "collapsed": true
   },
   "outputs": [],
   "source": [
    "master_df = pd.read_csv('../../data/nutrient/compiled/nutrition_master_df.csv')\n",
    "\n",
    "with open('../../data/recipe/recipe_all.json') as f:\n",
    "    data = json.load(f)"
   ]
  },
  {
   "cell_type": "code",
   "execution_count": null,
   "metadata": {
    "collapsed": true
   },
   "outputs": [],
   "source": []
  },
  {
   "cell_type": "code",
   "execution_count": 3,
   "metadata": {},
   "outputs": [
    {
     "name": "stdout",
     "output_type": "stream",
     "text": [
      "Zucchini and Rosemary Soup\n",
      "\n",
      "\n",
      "0 2 tablespoons (1/4 stick) butter\n",
      "1 1 tablespoon vegetable oil\n",
      "2 1 large onion chopped\n",
      "3 2 garlic cloves sliced\n",
      "4 2 teaspoons minced fresh rosemary\n",
      "5 6 cups chicken stock or canned low-salt broth\n",
      "6 1 russet potato peeled sliced\n",
      "7 3 medium zucchini thinly sliced\n",
      "8 1 zucchini cut into 1/2-inch cubes\n",
      "9 Croutons\n",
      "10 Chopped green onions\n",
      "\n",
      "\n",
      "\"\"\n"
     ]
    }
   ],
   "source": [
    "ID = 'RECIPE_24915'\n",
    "\n",
    "print(data[ID]['name'])\n",
    "print('\\n')\n",
    "itr = 0\n",
    "for i in data[ID]['ingredients']:\n",
    "    print(itr, i)\n",
    "    itr +=1\n",
    "\n",
    "print('\\n')\n",
    "print(data[ID]['servings'])"
   ]
  },
  {
   "cell_type": "code",
   "execution_count": 3,
   "metadata": {
    "collapsed": true
   },
   "outputs": [],
   "source": []
  },
  {
   "cell_type": "code",
   "execution_count": 19,
   "metadata": {},
   "outputs": [
    {
     "data": {
      "text/html": [
       "<div>\n",
       "<style>\n",
       "    .dataframe thead tr:only-child th {\n",
       "        text-align: right;\n",
       "    }\n",
       "\n",
       "    .dataframe thead th {\n",
       "        text-align: left;\n",
       "    }\n",
       "\n",
       "    .dataframe tbody tr th {\n",
       "        vertical-align: top;\n",
       "    }\n",
       "</style>\n",
       "<table border=\"1\" class=\"dataframe\">\n",
       "  <thead>\n",
       "    <tr style=\"text-align: right;\">\n",
       "      <th></th>\n",
       "      <th>Description</th>\n",
       "      <th>NDB_NO</th>\n",
       "    </tr>\n",
       "  </thead>\n",
       "  <tbody>\n",
       "    <tr>\n",
       "      <th>3203</th>\n",
       "      <td>oil, avocado</td>\n",
       "      <td>\"04581\"</td>\n",
       "    </tr>\n",
       "    <tr>\n",
       "      <th>3656</th>\n",
       "      <td>avocados, raw, all commercial varieties</td>\n",
       "      <td>\"09037\"</td>\n",
       "    </tr>\n",
       "    <tr>\n",
       "      <th>3657</th>\n",
       "      <td>avocados, raw, california</td>\n",
       "      <td>\"09038\"</td>\n",
       "    </tr>\n",
       "    <tr>\n",
       "      <th>3658</th>\n",
       "      <td>avocados, raw, florida</td>\n",
       "      <td>\"09039\"</td>\n",
       "    </tr>\n",
       "  </tbody>\n",
       "</table>\n",
       "</div>"
      ],
      "text/plain": [
       "                                  Description   NDB_NO\n",
       "3203                             oil, avocado  \"04581\"\n",
       "3656  avocados, raw, all commercial varieties  \"09037\"\n",
       "3657                avocados, raw, california  \"09038\"\n",
       "3658                   avocados, raw, florida  \"09039\""
      ]
     },
     "execution_count": 19,
     "metadata": {},
     "output_type": "execute_result"
    }
   ],
   "source": [
    "a=master_df[(master_df['Description'].str.contains('avocado')) &\n",
    "          (master_df['Description'].str.contains(''))][['Description', \"NDB_NO\"]]\n",
    "\n",
    "a"
   ]
  },
  {
   "cell_type": "code",
   "execution_count": 18,
   "metadata": {},
   "outputs": [
    {
     "name": "stdout",
     "output_type": "stream",
     "text": [
      "rice, brown, long-grain, cooked (includes foods for usda's food distribution program)\n",
      "rice, brown, long-grain, raw (includes foods for usda's food distribution program)\n",
      "rice, white, long-grain, parboiled, enriched, cooked\n",
      "rice, white, long-grain, parboiled, enriched, dry\n",
      "rice, white, long-grain, parboiled, unenriched, cooked\n",
      "rice, white, long-grain, parboiled, unenriched, dry\n",
      "rice, white, long-grain, precooked or instant, enriched, dry\n",
      "rice, white, long-grain, precooked or instant, enriched, prepared\n",
      "rice, white, long-grain, regular, cooked, enriched, with salt\n",
      "rice, white, long-grain, regular, cooked, unenriched, with salt\n",
      "rice, white, long-grain, regular, enriched, cooked\n",
      "rice, white, long-grain, regular, raw, enriched\n",
      "rice, white, long-grain, regular, raw, unenriched\n",
      "rice, white, long-grain, regular, unenriched, cooked without salt\n",
      "noodles, chinese, cellophane or long rice (mung beans), dehydrated\n"
     ]
    }
   ],
   "source": [
    "for i in a['Description']:\n",
    "    print(i)"
   ]
  },
  {
   "cell_type": "code",
   "execution_count": 19,
   "metadata": {},
   "outputs": [
    {
     "data": {
      "text/plain": [
       "'bread, crumbs, dry, grated, plain'"
      ]
     },
     "execution_count": 19,
     "metadata": {},
     "output_type": "execute_result"
    }
   ],
   "source": [
    "master_df[master_df['NDB_NO'] == '\"18079\"'][['Description']].get_values()[0][0]"
   ]
  }
 ],
 "metadata": {
  "kernelspec": {
   "display_name": "Python 3",
   "language": "python",
   "name": "python3"
  },
  "language_info": {
   "codemirror_mode": {
    "name": "ipython",
    "version": 3
   },
   "file_extension": ".py",
   "mimetype": "text/x-python",
   "name": "python",
   "nbconvert_exporter": "python",
   "pygments_lexer": "ipython3",
   "version": "3.6.3"
  }
 },
 "nbformat": 4,
 "nbformat_minor": 2
}
