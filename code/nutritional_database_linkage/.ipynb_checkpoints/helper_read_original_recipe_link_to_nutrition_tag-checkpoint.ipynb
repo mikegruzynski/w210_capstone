{
 "cells": [
  {
   "cell_type": "code",
   "execution_count": 8,
   "metadata": {
    "collapsed": true
   },
   "outputs": [],
   "source": [
    "import json\n",
    "import pandas as pd\n",
    "import numpy as np\n",
    "import re "
   ]
  },
  {
   "cell_type": "code",
   "execution_count": 11,
   "metadata": {},
   "outputs": [],
   "source": [
    "master_df = pd.read_csv('../../data/nutrient/compiled/nutrition_master_df.csv')\n",
    "\n",
    "with open('../../data/recipe/recipe_all.json') as f:\n",
    "    data = json.load(f)"
   ]
  },
  {
   "cell_type": "code",
   "execution_count": null,
   "metadata": {
    "collapsed": true
   },
   "outputs": [],
   "source": []
  },
  {
   "cell_type": "code",
   "execution_count": 15,
   "metadata": {},
   "outputs": [
    {
     "name": "stdout",
     "output_type": "stream",
     "text": [
      "Zucchini and Rosemary Soup\n",
      "\n",
      "\n",
      "0 2 tablespoons (1/4 stick) butter\n",
      "1 1 tablespoon vegetable oil\n",
      "2 1 large onion chopped\n",
      "3 2 garlic cloves sliced\n",
      "4 2 teaspoons minced fresh rosemary\n",
      "5 6 cups chicken stock or canned low-salt broth\n",
      "6 1 russet potato peeled sliced\n",
      "7 3 medium zucchini thinly sliced\n",
      "8 1 zucchini cut into 1/2-inch cubes\n",
      "9 Croutons\n",
      "10 Chopped green onions\n",
      "\n",
      "\n",
      "\"\"\n"
     ]
    }
   ],
   "source": [
    "ID = 'RECIPE_24915'\n",
    "\n",
    "print(data[ID]['name'])\n",
    "print('\\n')\n",
    "itr = 0\n",
    "for i in data[ID]['ingredients']:\n",
    "    print(itr, i)\n",
    "    itr +=1\n",
    "\n",
    "print('\\n')\n",
    "print(data[ID]['servings'])"
   ]
  },
  {
   "cell_type": "code",
   "execution_count": 3,
   "metadata": {
    "collapsed": true
   },
   "outputs": [],
   "source": []
  },
  {
   "cell_type": "code",
   "execution_count": 16,
   "metadata": {},
   "outputs": [
    {
     "data": {
      "text/html": [
       "<div>\n",
       "<style>\n",
       "    .dataframe thead tr:only-child th {\n",
       "        text-align: right;\n",
       "    }\n",
       "\n",
       "    .dataframe thead th {\n",
       "        text-align: left;\n",
       "    }\n",
       "\n",
       "    .dataframe tbody tr th {\n",
       "        vertical-align: top;\n",
       "    }\n",
       "</style>\n",
       "<table border=\"1\" class=\"dataframe\">\n",
       "  <thead>\n",
       "    <tr style=\"text-align: right;\">\n",
       "      <th></th>\n",
       "      <th>Description</th>\n",
       "      <th>NDB_NO</th>\n",
       "    </tr>\n",
       "  </thead>\n",
       "  <tbody>\n",
       "    <tr>\n",
       "      <th>2615</th>\n",
       "      <td>cheese, gruyere</td>\n",
       "      <td>\"01023\"</td>\n",
       "    </tr>\n",
       "  </tbody>\n",
       "</table>\n",
       "</div>"
      ],
      "text/plain": [
       "          Description   NDB_NO\n",
       "2615  cheese, gruyere  \"01023\""
      ]
     },
     "execution_count": 16,
     "metadata": {},
     "output_type": "execute_result"
    }
   ],
   "source": [
    "a=master_df[(master_df['Description'].str.contains('gruyere')) &\n",
    "          (master_df['Description'].str.contains('gruyere'))][['Description', \"NDB_NO\"]]\n",
    "\n",
    "a"
   ]
  },
  {
   "cell_type": "code",
   "execution_count": 17,
   "metadata": {},
   "outputs": [
    {
     "name": "stdout",
     "output_type": "stream",
     "text": [
      "cheese, gruyere\n"
     ]
    }
   ],
   "source": [
    "for i in a['Description']:\n",
    "    print(i)"
   ]
  }
 ],
 "metadata": {
  "kernelspec": {
   "display_name": "Python 3",
   "language": "python",
   "name": "python3"
  },
  "language_info": {
   "codemirror_mode": {
    "name": "ipython",
    "version": 3
   },
   "file_extension": ".py",
   "mimetype": "text/x-python",
   "name": "python",
   "nbconvert_exporter": "python",
   "pygments_lexer": "ipython3",
   "version": "3.6.3"
  }
 },
 "nbformat": 4,
 "nbformat_minor": 2
}
