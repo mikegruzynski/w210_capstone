{
 "cells": [
  {
   "cell_type": "code",
   "execution_count": 4,
   "metadata": {},
   "outputs": [
    {
     "name": "stdout",
     "output_type": "stream",
     "text": [
      "height has been deprecated.\n",
      "\n"
     ]
    }
   ],
   "source": [
    "import json\n",
    "import pandas as pd\n",
    "pd.set_option('display.height', 1000)\n",
    "pd.set_option('display.max_rows', 500)\n",
    "pd.set_option('display.max_columns', 500)\n",
    "pd.set_option('display.width', 1000)\n",
    "import numpy as np\n",
    "import re "
   ]
  },
  {
   "cell_type": "code",
   "execution_count": 5,
   "metadata": {},
   "outputs": [],
   "source": [
    "master_df = pd.read_csv(\"C:/Users/mgruz/Desktop/w210/data/nutrient/compiled/nutrition_master_df.csv\")"
   ]
  },
  {
   "cell_type": "code",
   "execution_count": 6,
   "metadata": {},
   "outputs": [
    {
     "ename": "ModuleNotFoundError",
     "evalue": "No module named 'plotly'",
     "output_type": "error",
     "traceback": [
      "\u001b[0;31m---------------------------------------------------------------------------\u001b[0m",
      "\u001b[0;31mModuleNotFoundError\u001b[0m                       Traceback (most recent call last)",
      "\u001b[0;32m<ipython-input-6-cc1a01c1df10>\u001b[0m in \u001b[0;36m<module>\u001b[0;34m()\u001b[0m\n\u001b[1;32m      3\u001b[0m \u001b[0;32mfrom\u001b[0m \u001b[0msklearn\u001b[0m\u001b[0;34m.\u001b[0m\u001b[0mdecomposition\u001b[0m \u001b[0;32mimport\u001b[0m \u001b[0mPCA\u001b[0m\u001b[0;34m\u001b[0m\u001b[0m\n\u001b[1;32m      4\u001b[0m \u001b[0;32mimport\u001b[0m \u001b[0mmatplotlib\u001b[0m\u001b[0;34m.\u001b[0m\u001b[0mpyplot\u001b[0m \u001b[0;32mas\u001b[0m \u001b[0mplt\u001b[0m\u001b[0;34m\u001b[0m\u001b[0m\n\u001b[0;32m----> 5\u001b[0;31m \u001b[0;32mimport\u001b[0m \u001b[0mplotly\u001b[0m\u001b[0;34m.\u001b[0m\u001b[0mplotly\u001b[0m \u001b[0;32mas\u001b[0m \u001b[0mpy\u001b[0m\u001b[0;34m\u001b[0m\u001b[0m\n\u001b[0m\u001b[1;32m      6\u001b[0m \u001b[0;32mfrom\u001b[0m \u001b[0mplotly\u001b[0m\u001b[0;34m.\u001b[0m\u001b[0mgraph_objs\u001b[0m \u001b[0;32mimport\u001b[0m \u001b[0;34m*\u001b[0m\u001b[0;34m\u001b[0m\u001b[0m\n\u001b[1;32m      7\u001b[0m \u001b[0;32mimport\u001b[0m \u001b[0mplotly\u001b[0m\u001b[0;34m.\u001b[0m\u001b[0mplotly\u001b[0m \u001b[0;32mas\u001b[0m \u001b[0mpy\u001b[0m\u001b[0;34m\u001b[0m\u001b[0m\n",
      "\u001b[0;31mModuleNotFoundError\u001b[0m: No module named 'plotly'"
     ]
    }
   ],
   "source": [
    "import numpy as np\n",
    "import pandas as pd\n",
    "from sklearn.decomposition import PCA\n",
    "import matplotlib.pyplot as plt\n",
    "import plotly.plotly as py\n",
    "from plotly.graph_objs import *\n",
    "import plotly.plotly as py\n",
    "from plotly.graph_objs import *\n",
    "import plotly\n",
    "plotly.tools.set_credentials_file(username='mike.gruzynski', api_key='4YcZiB2EUICAxnKEEWFa')\n",
    "plotly.tools.set_config_file(world_readable=True, sharing='public')\n",
    "py.sign_in(\"mike.gruzynski\", \"4YcZiB2EUICAxnKEEWFa\")\n",
    "%matplotlib inline\n",
    "\n",
    "\n"
   ]
  },
  {
   "cell_type": "code",
   "execution_count": null,
   "metadata": {},
   "outputs": [],
   "source": [
    "master_df.describe()"
   ]
  },
  {
   "cell_type": "code",
   "execution_count": null,
   "metadata": {
    "collapsed": true
   },
   "outputs": [],
   "source": [
    "# pca_transform_column = [\"10:0 (g)\", \"12:0 (g)\", \"13:0 (g)\", \"14:0 (g)\", \"14:1 (g)\", \"15:0 (g)\", \"15:1 (g)\", \"16:0 (g)\", \"16:1 c (g)\", \"16:1 t (g)\", \"16:1 undifferentiated (g)\", \"17:0 (g)\", \"17:1 (g)\", \"18:0 (g)\", \"18:1 c (g)\", \"18:1 t (g)\", \"18:1 undifferentiated (g)\", \"18:1-11 t (18:1t n-7) (g)\", \"18:2 CLAs (g)\", \"18:2 i (g)\", \"18:2 n-6 c,c (g)\", \"18:2 t not further defined (g)\", \"18:2 t,t (g)\", \"18:2 undifferentiated (g)\", \"18:3 n-3 c,c,c (ALA) (g)\", \"18:3 n-6 c,c,c (g)\", \"18:3 undifferentiated (g)\", \"18:4 (g)\", \"20:0 (g)\", \"20:1 (g)\", \"20:2 n-6 c,c (g)\", \"20:3 n-3 (g)\", \"20:3 n-6 (g)\", \"20:3 undifferentiated (g)\", \"20:4 n-6 (g)\", \"20:4 undifferentiated (g)\", \"20:5 n-3 (EPA) (g)\", \"21:5 (g)\", \"22:0 (g)\", \"22:1 c (g)\", \"22:1 t (g)\", \"22:1 undifferentiated (g)\", \"22:4 (g)\", \"22:5 n-3 (DPA) (g)\", \"22:6 n-3 (DHA) (g)\", \"24:0 (g)\", \"24:1 c (g)\", \"4:0 (g)\", \"6:0 (g)\", \"8:0 (g)\", \"Alanine (g)\", \"Alcohol, ethyl (g)\", \"Arginine (g)\", \"Ash (g)\", \"Aspartic acid (g)\", \"Beta-sitosterol (mg)\", \"Betaine (mg)\", \"Caffeine (mg)\", \"Calcium, Ca (mg)\", \"Campesterol (mg)\", \"Carbohydrate, by difference (g)\", \"Carotene, alpha (µg)\", \"Carotene, beta (µg)\", \"Cholesterol (mg)\", \"Copper, Cu (mg)\", \"Cryptoxanthin, beta (µg)\", \"Cystine (g)\", \"Dihydrophylloquinone (µg)\", \"Energy (kJ)\", \"Energy (kcal)\", \"Fatty acids, total monounsaturated (g)\", \"Fatty acids, total polyunsaturated (g)\", \"Fatty acids, total saturated (g)\", \"Fatty acids, total trans (g)\", \"Fatty acids, total trans-monoenoic (g)\", \"Fatty acids, total trans-polyenoic (g)\", \"Fiber, total dietary (g)\", \"Fluoride, F (µg)\", \"Folate, DFE (µg)\", \"Folate, food (µg)\", \"Folate, total (µg)\", \"Folic acid (µg)\", \"Fructose (g)\", \"Galactose (g)\", \"Glucose (dextrose) (g)\", \"Glutamic acid (g)\", \"Glycine (g)\", \"Histidine (g)\", \"Hydroxyproline (g)\", \"Iron, Fe (mg)\", \"Isoleucine (g)\", \"Lactose (g)\", \"Leucine (g)\", \"Lutein + zeaxanthin (µg)\", \"Lycopene (µg)\", \"Lysine (g)\", \"Magnesium, Mg (mg)\", \"Maltose (g)\", \"Manganese, Mn (mg)\", \"Menaquinone-4 (µg)\", \"Methionine (g)\", \"Niacin (mg)\", \"Pantothenic acid (mg)\", \"Phenylalanine (g)\", \"Phosphorus, P (mg)\", \"Phytosterols (mg)\", \"Potassium, K (mg)\", \"Proline (g)\", \"Protein (g)\", \"Retinol (µg)\", \"Riboflavin (mg)\", \"Selenium, Se (µg)\", \"Sodium, Na (mg)\", \"Starch (g)\", \"Stigmasterol (mg)\", \"Sucrose (g)\", \"Sugars, total (g)\", \"Theobromine (mg)\", \"Thiamin (mg)\", \"Threonine (g)\", \"Tocopherol, delta (mg)\", \"Tocopherol, gamma (mg)\", \"Tocotrienol, alpha (mg)\", \"Tocotrienol, beta (mg)\", \"Tocotrienol, delta (mg)\", \"Tocotrienol, gamma (mg)\", \"Total lipid (fat) (g)\", \"Tryptophan (g)\", \"Tyrosine (g)\", \"Valine (g)\", \"Vitamin A, IU (IU)\", \"Vitamin A, RAE (µg)\", \"Vitamin B-12 (µg)\", \"Vitamin B-6 (mg)\", \"Vitamin C, total ascorbic acid (mg)\", \"Vitamin D (D2 + D3) (µg)\", \"Vitamin D (IU)\", \"Vitamin D2 (ergocalciferol) (µg)\", \"Vitamin D3 (cholecalciferol) (µg)\", \"Vitamin E (alpha-tocopherol) (mg)\", \"Vitamin E, added (mg)\", \"Vitamin K (phylloquinone) (µg)\", \"Water (g)\", \"Weight(g)\"]\n",
    "pca_transform_column = [\"10:0 (g)\", \"12:0 (g)\", \"13:0 (g)\", \"14:0 (g)\", \"14:1 (g)\", \"15:0 (g)\", \"15:1 (g)\", \"16:0 (g)\", \"16:1 c (g)\", \"16:1 t (g)\", \"16:1 undifferentiated (g)\", \"17:0 (g)\", \"17:1 (g)\", \"18:0 (g)\", \"18:1 c (g)\", \"18:1 t (g)\", \"18:1 undifferentiated (g)\", \"18:1-11 t (18:1t n-7) (g)\", \"18:2 CLAs (g)\", \"18:2 i (g)\", \"18:2 n-6 c,c (g)\", \"18:2 t not further defined (g)\", \"18:2 t,t (g)\", \"18:2 undifferentiated (g)\", \"18:3 n-3 c,c,c (ALA) (g)\", \"18:3 n-6 c,c,c (g)\", \"18:3 undifferentiated (g)\", \"18:4 (g)\", \"20:0 (g)\", \"20:1 (g)\", \"20:2 n-6 c,c (g)\", \"20:3 n-3 (g)\", \"20:3 n-6 (g)\", \"20:3 undifferentiated (g)\", \"20:4 n-6 (g)\", \"20:4 undifferentiated (g)\", \"20:5 n-3 (EPA) (g)\", \"21:5 (g)\", \"22:0 (g)\", \"22:1 c (g)\", \"22:1 t (g)\", \"22:1 undifferentiated (g)\", \"22:4 (g)\", \"22:5 n-3 (DPA) (g)\", \"22:6 n-3 (DHA) (g)\", \"24:0 (g)\", \"24:1 c (g)\", \"4:0 (g)\", \"6:0 (g)\", \"8:0 (g)\", \"Alanine (g)\", \"Alcohol, ethyl (g)\", \"Arginine (g)\", \"Ash (g)\", \"Aspartic acid (g)\", \"Beta-sitosterol (mg)\", \"Betaine (mg)\", \"Caffeine (mg)\", \"Calcium, Ca (mg)\", \"Campesterol (mg)\", \"Carbohydrate, by difference (g)\", \"Carotene, alpha (µg)\", \"Carotene, beta (µg)\", \"Cholesterol (mg)\", \"Copper, Cu (mg)\", \"Cryptoxanthin, beta (µg)\", \"Cystine (g)\", \"Dihydrophylloquinone (µg)\", \"Energy (kcal)\", \"Fatty acids, total monounsaturated (g)\", \"Fatty acids, total polyunsaturated (g)\", \"Fatty acids, total saturated (g)\", \"Fatty acids, total trans (g)\", \"Fatty acids, total trans-monoenoic (g)\", \"Fatty acids, total trans-polyenoic (g)\", \"Fiber, total dietary (g)\", \"Fluoride, F (µg)\", \"Folate, DFE (µg)\", \"Folate, food (µg)\", \"Folate, total (µg)\", \"Folic acid (µg)\", \"Fructose (g)\", \"Galactose (g)\", \"Glucose (dextrose) (g)\", \"Glutamic acid (g)\", \"Glycine (g)\", \"Histidine (g)\", \"Hydroxyproline (g)\", \"Iron, Fe (mg)\", \"Isoleucine (g)\", \"Lactose (g)\", \"Leucine (g)\", \"Lycopene (µg)\", \"Lysine (g)\", \"Magnesium, Mg (mg)\", \"Maltose (g)\", \"Manganese, Mn (mg)\", \"Menaquinone-4 (µg)\", \"Methionine (g)\", \"Niacin (mg)\", \"Pantothenic acid (mg)\", \"Phenylalanine (g)\", \"Phosphorus, P (mg)\", \"Phytosterols (mg)\", \"Potassium, K (mg)\", \"Proline (g)\", \"Protein (g)\", \"Riboflavin (mg)\", \"Selenium, Se (µg)\", \"Sodium, Na (mg)\", \"Starch (g)\", \"Stigmasterol (mg)\", \"Sucrose (g)\", \"Sugars, total (g)\", \"Theobromine (mg)\", \"Thiamin (mg)\", \"Threonine (g)\", \"Tocopherol, delta (mg)\", \"Tocopherol, gamma (mg)\", \"Tocotrienol, alpha (mg)\", \"Tocotrienol, beta (mg)\", \"Tocotrienol, delta (mg)\", \"Tocotrienol, gamma (mg)\", \"Total lipid (fat) (g)\", \"Tryptophan (g)\", \"Tyrosine (g)\", \"Valine (g)\", \"Vitamin B-12 (µg)\", \"Vitamin B-6 (mg)\", \"Vitamin C, total ascorbic acid (mg)\", \"Vitamin D (D2 + D3) (µg)\", \"Vitamin D2 (ergocalciferol) (µg)\", \"Vitamin D3 (cholecalciferol) (µg)\", \"Vitamin E (alpha-tocopherol) (mg)\", \"Vitamin E, added (mg)\", \"Vitamin K (phylloquinone) (µg)\", \"Water (g)\", \"Weight(g)\"]\n",
    "# pca_transform_column = [\"Water (g)\", \"Energy (kcal)\", \"Protein (g)\", \"Total lipid (fat) (g)\", \"Ash (g)\", \"Carbohydrate, by difference (g)\", \"Fiber, total dietary (g)\", \"Sugars, total (g)\", \"Sucrose (g)\", \"Glucose (dextrose) (g)\", \"Fructose (g)\", \"Lactose (g)\", \"Maltose (g)\", \"Galactose (g)\", \"Starch (g)\", \"Calcium, Ca (mg)\", \"Iron, Fe (mg)\", \"Magnesium, Mg (mg)\", \"Phosphorus, P (mg)\", \"Potassium, K (mg)\", \"Sodium, Na (mg)\", \"Copper, Cu (mg)\", \"Manganese, Mn (mg)\", \"Selenium, Se (µg)\", \"Fluoride, F (µg)\", \"Vitamin C, total ascorbic acid (mg)\", \"Thiamin (mg)\", \"Riboflavin (mg)\", \"Niacin (mg)\", \"Pantothenic acid (mg)\", \"Vitamin B-6 (mg)\", \"Folate, total (µg)\", \"Folic acid (µg)\", \"Folate, food (µg)\", \"Betaine (mg)\", \"Vitamin B-12 (µg)\", \"Vitamin A, RAE (µg)\", \"Retinol (µg)\", \"Carotene, beta (µg)\", \"Carotene, alpha (µg)\", \"Cryptoxanthin, beta (µg)\", \"Lycopene (µg)\", \"Lutein + zeaxanthin (µg)\", \"Vitamin E (alpha-tocopherol) (mg)\", \"Tocopherol, gamma (mg)\", \"Tocopherol, delta (mg)\", \"Tocotrienol, alpha (mg)\", \"Tocotrienol, beta (mg)\", \"Tocotrienol, gamma (mg)\", \"Tocotrienol, delta (mg)\", \"Vitamin D (D2 + D3) (µg)\", \"Vitamin D2 (ergocalciferol) (µg)\", \"Vitamin D3 (cholecalciferol) (µg)\", \"Vitamin K (phylloquinone) (µg)\", \"Dihydrophylloquinone (µg)\", \"Menaquinone-4 (µg)\", \"Fatty acids, total saturated (g)\", \"Fatty acids, total monounsaturated (g)\", \"Fatty acids, total polyunsaturated (g)\", \"Fatty acids, total trans (g)\", \"Fatty acids, total trans-monoenoic (g)\", \"Fatty acids, total trans-polyenoic (g)\", \"Cholesterol (mg)\", \"Phytosterols (mg)\", \"Stigmasterol (mg)\", \"Campesterol (mg)\", \"Beta-sitosterol (mg)\", \"Tryptophan (g)\", \"Threonine (g)\", \"Isoleucine (g)\", \"Leucine (g)\", \"Lysine (g)\", \"Methionine (g)\", \"Cystine (g)\", \"Phenylalanine (g)\", \"Tyrosine (g)\", \"Valine (g)\", \"Arginine (g)\", \"Histidine (g)\", \"Alanine (g)\", \"Aspartic acid (g)\", \"Glutamic acid (g)\", \"Glycine (g)\", \"Proline (g)\", \"Hydroxyproline (g)\", \"Alcohol, ethyl (g)\", \"Caffeine (mg)\", \"Theobromine (mg)\"]\n",
    "\n",
    "filtered_df = master_df[pca_transform_column]\n",
    "filtered_df = filtered_df.fillna(value=0.0)\n",
    "\n",
    "pca = PCA()\n",
    "pca_transform = pca.fit_transform(filtered_df)"
   ]
  },
  {
   "cell_type": "code",
   "execution_count": null,
   "metadata": {},
   "outputs": [],
   "source": [
    "plt.plot(pca.explained_variance_[:10])"
   ]
  },
  {
   "cell_type": "code",
   "execution_count": null,
   "metadata": {},
   "outputs": [],
   "source": [
    "plt.plot(np.cumsum(pca.explained_variance_ratio_[:10]))"
   ]
  },
  {
   "cell_type": "code",
   "execution_count": null,
   "metadata": {
    "collapsed": true
   },
   "outputs": [],
   "source": [
    "pca_method_one = PCA(n_components=3)\n",
    "pca_transform_3 = pca_method_one.fit_transform(filtered_df)\n",
    "df_plot = pd.DataFrame(pca_transform_3)\n",
    "df_plot.columns = ['PCA_1', 'PCA_2', 'PCA_3']\n",
    "df_plot['Category'] = master_df['Category']\n",
    "df_plot['Description'] = master_df['Description']"
   ]
  },
  {
   "cell_type": "code",
   "execution_count": null,
   "metadata": {
    "collapsed": true
   },
   "outputs": [],
   "source": [
    "from sklearn.preprocessing import StandardScaler\n",
    "standar_scaler = StandardScaler()\n",
    "pca_method_three = PCA(n_components=3)\n",
    "pca_transform_3 = pca_method_one.fit_transform(standar_scaler.fit_transform(filtered_df))\n",
    "df_plot_3 = pd.DataFrame(pca_transform_3)\n",
    "df_plot_3.columns = ['PCA_1', 'PCA_2', 'PCA_3']\n",
    "df_plot_3['Category'] = master_df['Category']\n",
    "df_plot_3['Description'] = master_df['Description']\n",
    "df_plot_3['NDB_NO'] = master_df['NDB_NO']"
   ]
  },
  {
   "cell_type": "code",
   "execution_count": null,
   "metadata": {
    "collapsed": true
   },
   "outputs": [],
   "source": [
    "# df_plot_3_use = df_plot_3[(df_plot_3['Description'].str.contains('chicken')) &\n",
    "#           (df_plot_3['Description'].str.contains('chicken'))]\n",
    "\n",
    "df_plot_temp = df_plot_3[df_plot_3['Category'] == 'Lamb_Veal_and_Game_Products']\n",
    "df_plot_temp.to_csv('test.csv')\n",
    "\n",
    "# test_df = pd.read_csv('test.csv')\n"
   ]
  },
  {
   "cell_type": "code",
   "execution_count": null,
   "metadata": {},
   "outputs": [],
   "source": [
    "import plotly.plotly as py\n",
    "import plotly.graph_objs as go\n",
    "\n",
    "trace_list = []\n",
    "\n",
    "N = len(test_df['Detail_Group'].unique())\n",
    "c = ['hsl('+str(h)+',50%'+',50%)' for h in np.linspace(0, 360, N)]\n",
    "symbol_list = [\"circle\", \"square\",\"circle\", \"square\",\"circle\", \"square\",\"circle\", \"square\",\"circle\", \"square\",\n",
    "              \"circle\", \"square\",\"circle\", \"square\",\"circle\", \"square\",\"circle\", \"square\",\"circle\", \"square\",\n",
    "              \"circle\", \"square\",\"circle\", \"square\",\"circle\", \"square\",\"circle\", \"square\",\"circle\", \"square\",\n",
    "              \"circle\", \"square\"]\n",
    "\n",
    "\n",
    "itr = 0\n",
    "for category in test_df['Detail_Group'].unique():\n",
    "    trace1 = go.Scatter3d(\n",
    "        x=test_df[test_df['Detail_Group'] == category]['PCA_1'],\n",
    "        y=test_df[test_df['Detail_Group'] == category]['PCA_2'],\n",
    "        z=test_df[test_df['Detail_Group'] == category]['PCA_3'],\n",
    "        mode='markers',\n",
    "        marker=dict(\n",
    "            size=4,\n",
    "            color=c[itr],\n",
    "#             opacity=0.8,\n",
    "            symbol=symbol_list[itr]\n",
    "        ),\n",
    "        name=category,\n",
    "        text=test_df[test_df['Detail_Group'] == category]['Description']\n",
    "    )\n",
    "    itr += 1\n",
    "    trace_list.append(trace1)\n",
    "\n",
    "data = trace_list\n",
    "layout = go.Layout(\n",
    "    margin=dict(\n",
    "        l=0,\n",
    "        r=0,\n",
    "        b=0,\n",
    "        t=0\n",
    "    ),\n",
    "        xaxis=dict(\n",
    "        range=[-40, 40]\n",
    "    ),\n",
    "    yaxis=dict(\n",
    "        range=[-40, 40]\n",
    "    )\n",
    ")\n",
    "\n",
    "fig = go.Figure(data=data, layout=layout)\n",
    "py.iplot(fig, filename='3d-scatter-colorscale')"
   ]
  },
  {
   "cell_type": "code",
   "execution_count": null,
   "metadata": {},
   "outputs": [],
   "source": [
    "import plotly.plotly as py\n",
    "import plotly.graph_objs as go\n",
    "\n",
    "trace_list = []\n",
    "\n",
    "N = len(df_plot['Category'].unique())\n",
    "c = ['hsl('+str(h)+',50%'+',50%)' for h in np.linspace(0, 360, N)]\n",
    "symbol_list = [\"circle\", \"square\",\"circle\", \"square\",\"circle\", \"square\",\"circle\", \"square\",\"circle\", \"square\",\n",
    "              \"circle\", \"square\",\"circle\", \"square\",\"circle\", \"square\",\"circle\", \"square\",\"circle\", \"square\",\n",
    "              \"circle\", \"square\",\"circle\", \"square\",\"circle\", \"square\",\"circle\", \"square\",\"circle\", \"square\",\n",
    "              \"circle\", \"square\"]\n",
    "\n",
    "\n",
    "itr = 0\n",
    "for category in df_plot_3['Category'].unique():\n",
    "    trace1 = go.Scatter3d(\n",
    "        x=df_plot_3[df_plot_3['Category'] == category]['PCA_1'],\n",
    "        y=df_plot_3[df_plot_3['Category'] == category]['PCA_2'],\n",
    "        z=df_plot_3[df_plot_3['Category'] == category]['PCA_3'],\n",
    "        mode='markers',\n",
    "        marker=dict(\n",
    "            size=4,\n",
    "            color=c[itr],\n",
    "#             opacity=0.8,\n",
    "            symbol=symbol_list[itr]\n",
    "        ),\n",
    "        name=category,\n",
    "        text=df_plot_3[df_plot_3['Category'] == category]['Description']\n",
    "    )\n",
    "    itr += 1\n",
    "    trace_list.append(trace1)\n",
    "\n",
    "data = trace_list\n",
    "layout = go.Layout(\n",
    "    margin=dict(\n",
    "        l=0,\n",
    "        r=0,\n",
    "        b=0,\n",
    "        t=0\n",
    "    ),\n",
    "        xaxis=dict(\n",
    "        range=[-40, 40]\n",
    "    ),\n",
    "    yaxis=dict(\n",
    "        range=[-40, 40]\n",
    "    )\n",
    ")\n",
    "\n",
    "fig = go.Figure(data=data, layout=layout)\n",
    "py.iplot(fig, filename='3d-scatter-colorscale')"
   ]
  },
  {
   "cell_type": "code",
   "execution_count": null,
   "metadata": {},
   "outputs": [],
   "source": [
    "pca_transform_column = [\"10:0 (g)\", \"12:0 (g)\", \"13:0 (g)\", \"14:0 (g)\", \"14:1 (g)\", \"15:0 (g)\", \"15:1 (g)\", \"16:0 (g)\", \"16:1 c (g)\", \"16:1 t (g)\", \"16:1 undifferentiated (g)\", \"17:0 (g)\", \"17:1 (g)\", \"18:0 (g)\", \"18:1 c (g)\", \"18:1 t (g)\", \"18:1 undifferentiated (g)\", \"18:1-11 t (18:1t n-7) (g)\", \"18:2 CLAs (g)\", \"18:2 i (g)\", \"18:2 n-6 c,c (g)\", \"18:2 t not further defined (g)\", \"18:2 t,t (g)\", \"18:2 undifferentiated (g)\", \"18:3 n-3 c,c,c (ALA) (g)\", \"18:3 n-6 c,c,c (g)\", \"18:3 undifferentiated (g)\", \"18:4 (g)\", \"20:0 (g)\", \"20:1 (g)\", \"20:2 n-6 c,c (g)\", \"20:3 n-3 (g)\", \"20:3 n-6 (g)\", \"20:3 undifferentiated (g)\", \"20:4 n-6 (g)\", \"20:4 undifferentiated (g)\", \"20:5 n-3 (EPA) (g)\", \"21:5 (g)\", \"22:0 (g)\", \"22:1 c (g)\", \"22:1 t (g)\", \"22:1 undifferentiated (g)\", \"22:4 (g)\", \"22:5 n-3 (DPA) (g)\", \"22:6 n-3 (DHA) (g)\", \"24:0 (g)\", \"24:1 c (g)\", \"4:0 (g)\", \"6:0 (g)\", \"8:0 (g)\", \"Alanine (g)\", \"Alcohol, ethyl (g)\", \"Arginine (g)\", \"Ash (g)\", \"Aspartic acid (g)\", \"Beta-sitosterol (mg)\", \"Betaine (mg)\", \"Caffeine (mg)\", \"Calcium, Ca (mg)\", \"Campesterol (mg)\", \"Carbohydrate, by difference (g)\", \"Carotene, alpha (µg)\", \"Carotene, beta (µg)\", \"Cholesterol (mg)\", \"Copper, Cu (mg)\", \"Cryptoxanthin, beta (µg)\", \"Cystine (g)\", \"Dihydrophylloquinone (µg)\", \"Energy (kcal)\", \"Fatty acids, total monounsaturated (g)\", \"Fatty acids, total polyunsaturated (g)\", \"Fatty acids, total saturated (g)\", \"Fatty acids, total trans (g)\", \"Fatty acids, total trans-monoenoic (g)\", \"Fatty acids, total trans-polyenoic (g)\", \"Fiber, total dietary (g)\", \"Fluoride, F (µg)\", \"Folate, DFE (µg)\", \"Folate, food (µg)\", \"Folate, total (µg)\", \"Folic acid (µg)\", \"Fructose (g)\", \"Galactose (g)\", \"Glucose (dextrose) (g)\", \"Glutamic acid (g)\", \"Glycine (g)\", \"Histidine (g)\", \"Hydroxyproline (g)\", \"Iron, Fe (mg)\", \"Isoleucine (g)\", \"Lactose (g)\", \"Leucine (g)\", \"Lycopene (µg)\", \"Lysine (g)\", \"Magnesium, Mg (mg)\", \"Maltose (g)\", \"Manganese, Mn (mg)\", \"Menaquinone-4 (µg)\", \"Methionine (g)\", \"Niacin (mg)\", \"Pantothenic acid (mg)\", \"Phenylalanine (g)\", \"Phosphorus, P (mg)\", \"Phytosterols (mg)\", \"Potassium, K (mg)\", \"Proline (g)\", \"Protein (g)\", \"Riboflavin (mg)\", \"Selenium, Se (µg)\", \"Sodium, Na (mg)\", \"Starch (g)\", \"Stigmasterol (mg)\", \"Sucrose (g)\", \"Sugars, total (g)\", \"Theobromine (mg)\", \"Thiamin (mg)\", \"Threonine (g)\", \"Tocopherol, delta (mg)\", \"Tocopherol, gamma (mg)\", \"Tocotrienol, alpha (mg)\", \"Tocotrienol, beta (mg)\", \"Tocotrienol, delta (mg)\", \"Tocotrienol, gamma (mg)\", \"Total lipid (fat) (g)\", \"Tryptophan (g)\", \"Tyrosine (g)\", \"Valine (g)\", \"Vitamin B-12 (µg)\", \"Vitamin B-6 (mg)\", \"Vitamin C, total ascorbic acid (mg)\", \"Vitamin D (D2 + D3) (µg)\", \"Vitamin D2 (ergocalciferol) (µg)\", \"Vitamin D3 (cholecalciferol) (µg)\", \"Vitamin E (alpha-tocopherol) (mg)\", \"Vitamin E, added (mg)\", \"Vitamin K (phylloquinone) (µg)\", \"Water (g)\", \"Weight(g)\"]\n",
    "filtered_df = master_df[pca_transform_column]\n",
    "filtered_df = filtered_df.fillna(value=0.0)\n",
    "\n",
    "pca = PCA()\n",
    "standar_scaler = StandardScaler()\n",
    "pca_visualize_variables = PCA(n_components=3)\n",
    "\n",
    "pca_visualize_variables.fit(filtered_df)\n",
    "\n",
    "\n",
    "Vt = pca_visualize_variables.components_[:20, :]\n",
    "M = filtered_df - filtered_df.mean()\n",
    "U = np.matmul(M, np.transpose(Vt))\n",
    "\n",
    "\n",
    "comp0 = pd.Series(dict(zip(filtered_df.columns, Vt[0, :])))\n",
    "comp1 = pd.Series(dict(zip(filtered_df.columns, Vt[1, :])))\n",
    "col_order = comp0.sort_values().index\n",
    "\n",
    "plt.figure(figsize=(4, 24))\n",
    "comp0[col_order].plot(kind='barh')\n",
    "comp1[col_order].plot(kind='barh', color='red')"
   ]
  },
  {
   "cell_type": "code",
   "execution_count": null,
   "metadata": {},
   "outputs": [],
   "source": [
    "check_vals = [\"Lutein + zeaxanthin (µg)\", \"Retinol (µg)\", \"Vitamin A, RAE (µg)\"]\n",
    "filtered_df = master_df[check_vals]\n",
    "# filtered_df = filtered_df.fillna(value=0.0)\n",
    "filtered_df.describe()"
   ]
  }
 ],
 "metadata": {
  "kernelspec": {
   "display_name": "Python 3",
   "language": "python",
   "name": "python3"
  },
  "language_info": {
   "codemirror_mode": {
    "name": "ipython",
    "version": 3
   },
   "file_extension": ".py",
   "mimetype": "text/x-python",
   "name": "python",
   "nbconvert_exporter": "python",
   "pygments_lexer": "ipython3",
   "version": "3.6.3"
  }
 },
 "nbformat": 4,
 "nbformat_minor": 2
}
