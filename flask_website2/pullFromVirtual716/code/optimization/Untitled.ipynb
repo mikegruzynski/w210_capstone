{
 "cells": [
  {
   "cell_type": "code",
   "execution_count": 1,
   "metadata": {
    "collapsed": true
   },
   "outputs": [],
   "source": [
    "import pandas as pd\n",
    "\n",
    "nutritional_database = pd.read_csv('/root/w210_capstone/data/nutrient/compiled/nutrition_master_df.csv')"
   ]
  },
  {
   "cell_type": "code",
   "execution_count": 9,
   "metadata": {},
   "outputs": [
    {
     "data": {
      "text/html": [
       "<div>\n",
       "<style>\n",
       "    .dataframe thead tr:only-child th {\n",
       "        text-align: right;\n",
       "    }\n",
       "\n",
       "    .dataframe thead th {\n",
       "        text-align: left;\n",
       "    }\n",
       "\n",
       "    .dataframe tbody tr th {\n",
       "        vertical-align: top;\n",
       "    }\n",
       "</style>\n",
       "<table border=\"1\" class=\"dataframe\">\n",
       "  <thead>\n",
       "    <tr style=\"text-align: right;\">\n",
       "      <th></th>\n",
       "      <th>NDB_NO</th>\n",
       "      <th>Measure</th>\n",
       "      <th>Weight(g)</th>\n",
       "      <th>Description</th>\n",
       "      <th>Category</th>\n",
       "    </tr>\n",
       "  </thead>\n",
       "  <tbody>\n",
       "    <tr>\n",
       "      <th>7098</th>\n",
       "      <td>\"11291\"</td>\n",
       "      <td>1.0 cup, chopped</td>\n",
       "      <td>100.0</td>\n",
       "      <td>onions, spring or scallions (includes tops and...</td>\n",
       "      <td>Vegetables_and_Vegetable_Products</td>\n",
       "    </tr>\n",
       "  </tbody>\n",
       "</table>\n",
       "</div>"
      ],
      "text/plain": [
       "       NDB_NO           Measure  Weight(g)  \\\n",
       "7098  \"11291\"  1.0 cup, chopped      100.0   \n",
       "\n",
       "                                            Description  \\\n",
       "7098  onions, spring or scallions (includes tops and...   \n",
       "\n",
       "                               Category  \n",
       "7098  Vegetables_and_Vegetable_Products  "
      ]
     },
     "execution_count": 9,
     "metadata": {},
     "output_type": "execute_result"
    }
   ],
   "source": [
    "nutritional_database[nutritional_database['NDB_NO'] == '\"11291\"'][['NDB_NO', 'Measure', 'Weight(g)', 'Description', 'Category']]\n"
   ]
  }
 ],
 "metadata": {
  "kernelspec": {
   "display_name": "Python 3",
   "language": "python",
   "name": "python3"
  },
  "language_info": {
   "codemirror_mode": {
    "name": "ipython",
    "version": 3
   },
   "file_extension": ".py",
   "mimetype": "text/x-python",
   "name": "python",
   "nbconvert_exporter": "python",
   "pygments_lexer": "ipython3",
   "version": "3.6.3"
  }
 },
 "nbformat": 4,
 "nbformat_minor": 2
}
