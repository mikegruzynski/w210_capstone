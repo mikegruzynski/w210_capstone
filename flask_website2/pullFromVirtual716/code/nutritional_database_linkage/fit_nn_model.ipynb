{
 "cells": [
  {
   "cell_type": "code",
   "execution_count": 1,
   "metadata": {},
   "outputs": [
    {
     "name": "stdout",
     "output_type": "stream",
     "text": [
      "height has been deprecated.\n",
      "\n"
     ]
    },
    {
     "name": "stderr",
     "output_type": "stream",
     "text": [
      "Using TensorFlow backend.\n"
     ]
    }
   ],
   "source": [
    "import json\n",
    "import pandas as pd\n",
    "pd.set_option('display.height', 1000)\n",
    "pd.set_option('display.max_rows', 500)\n",
    "pd.set_option('display.max_columns', 500)\n",
    "pd.set_option('display.width', 1000)\n",
    "import numpy as np\n",
    "from numpy import array\n",
    "from keras.preprocessing.text import one_hot\n",
    "from keras.preprocessing.sequence import pad_sequences\n",
    "from keras.models import Sequential\n",
    "from keras.layers import Dense\n",
    "from keras.layers import Flatten\n",
    "from keras.layers.embeddings import Embedding\n",
    "from keras.preprocessing.text import Tokenizer\n",
    "import keras.preprocessing.text as kpt\n",
    "import keras\n",
    "import re \n",
    "import numpy, time\n",
    "import random\n",
    "import pickle\n",
    "from keras.models import load_model, model_from_json\n",
    "from sklearn.model_selection import train_test_split\n"
   ]
  },
  {
   "cell_type": "code",
   "execution_count": 2,
   "metadata": {
    "collapsed": true
   },
   "outputs": [],
   "source": [
    "nlp_df = pd.read_csv(\"../../data/nutrient/compiled/train_nn_df.csv\")"
   ]
  },
  {
   "cell_type": "code",
   "execution_count": 3,
   "metadata": {
    "collapsed": true
   },
   "outputs": [],
   "source": [
    "units_of_food_recipe = [\"cups\", \"cup\", \"c.\", \"c\", \n",
    "                        \"fl. oz.\", \"fl oz\", \"fluid ounce\", \"fluid ounces\",\n",
    "                        \"gal\", \"gal.\", \"gallon\", \"gallons\",\n",
    "                        \"oz\", \"oz.\", \"ounce\", \"ounces\", \"ouncs\",\n",
    "                        \"pt\", \"pt.\", \"pint\", \"pints\",\n",
    "                        \"lb\", \"lb.\", \"pound\", \"pounds\",\n",
    "                        \"qt\", \"qt.\", \"qts\", \"qts.\", \"quart\", \"quarts\",\n",
    "                        \"tbsp.\", \"tbsp\", \"T\", \"T.\", \"tablespoon\", \"tablespoons\", \"tbs.\", \"tbs\",\n",
    "                        \"tsp.\", \"tsp\", \"t\", \"t.\", \"teaspoon\", \"teaspoons\",\n",
    "                        \"g\", \"g.\", \"gr\", \"gr.\", \"gram\", \"grams\", \"gramme\", \"grammes\",\n",
    "                        \"kg\", \"kg.\", \"kilogram\", \"kilograms\", \"kilogramme\", \"kilogrammes\",\n",
    "                        \"l\", \"l.\", \"liter\", \"liters\", \"litre\", \"litres\",\n",
    "                        \"mg\", \"mg.\", \"milligram\", \"milligrams\", \"milligramme\", \"milligrammes\",\n",
    "                        \"ml\", \"ml.\", \"milliliter\", \"milliliters\", \"millilitre\", \"millilitres\",\n",
    "                        \"pinch\", \"pinches\", \"dash\", \"dashes\", \"touch\", \"touches\", \"handful\", \"handfuls\",\n",
    "                        \"stick\", \"sticks\",\n",
    "                        \"cans\", \"can\",\n",
    "                        \"to taste\",\n",
    "                        \"scoop\", \"scoops\",\n",
    "                        \"dollop\", \"dollops\",\n",
    "                        \"sprig\", \"sprigs\",\n",
    "                       \"recipe\",\n",
    "                       \"garnish\", \"garnished\",\n",
    "                       \"sprinkle\", \"spinkled\",\n",
    "                       \"slices\",\n",
    "                       \"serving\", \"servings\",\n",
    "                       \"ribs\", \"rib\", \"stalk\",\n",
    "                       \"inch\", \"inches\", \"in.\",\n",
    "                       \"drizzle\", \"drizzled\",\n",
    "                       \"to taste\"]\n",
    "\n",
    "food_size = [\"small\", \"medium\",\n",
    "              \"large\", \"about\"]\n",
    "\n",
    "food_format = [\"slice\", \"sliced\",\n",
    "              \"dice\", \"diced\",\n",
    "              \"peel\", \"peeled\",\n",
    "              \"chop\", \"chopped\",\n",
    "              \"julienne\", \"julienned\",\n",
    "              \"trim\", \"trimmed\",\n",
    "              \"sift\", \"sifted\",\n",
    "              \"freshly\",\n",
    "              \"fine\", \"finely\",\n",
    "              \"drain\", \"drained\",\n",
    "              \"super thinly\", \"thin\", \"thinly\",\n",
    "              \"grate\", \"grated\",\n",
    "              \"seeded\",\n",
    "              \"rinse\", \"rinsed\",\n",
    "              \"smash\", \"smashed\",\n",
    "              \"membrane\", \"removed\",\n",
    "              \"cleaned\",\n",
    "              \"mince\", \"minced\",\n",
    "              \"crush\", \"crushed\",\n",
    "              \"about\", \"around\",\n",
    "              '<hr>']\n",
    "\n",
    "\n",
    "def is_number(s):\n",
    "    try:\n",
    "        float(s)\n",
    "        return True\n",
    "    except ValueError:\n",
    "        return False"
   ]
  },
  {
   "cell_type": "code",
   "execution_count": 4,
   "metadata": {
    "collapsed": true
   },
   "outputs": [],
   "source": [
    "def transform_data_for_tokenizer(recipe_item):\n",
    "        \n",
    "    original = recipe_item.lower()\n",
    "    original = re.sub(r'\\s*(\\d+|[./+*-])', '', recipe_item)\n",
    "    original_split = original.split(\" \")\n",
    "    remove_list = list(set(original).symmetric_difference(units_of_food_recipe))\n",
    "\n",
    "    keep_list = []\n",
    "    for i in original_split:\n",
    "        if i not in food_size and i not in units_of_food_recipe:\n",
    "            keep_list.append(i)\n",
    "    \n",
    "    original_split = list(filter(None, keep_list))\n",
    "    new = \" \".join(original_split)\n",
    "    return new"
   ]
  },
  {
   "cell_type": "code",
   "execution_count": 40,
   "metadata": {},
   "outputs": [
    {
     "name": "stderr",
     "output_type": "stream",
     "text": [
      "/root/anaconda/lib/python3.6/site-packages/sklearn/model_selection/_split.py:2026: FutureWarning: From version 0.21, test_size will always complement train_size unless both are specified.\n",
      "  FutureWarning)\n"
     ]
    }
   ],
   "source": [
    "nlp_df['filtered_text'] = nlp_df['original_text'].apply(transform_data_for_tokenizer)\n",
    "nlp_df = nlp_df.drop_duplicates(subset='filtered_text')\n",
    "\n",
    "NDB_tag_unique = nlp_df['NDB_ID'].unique()\n",
    "NDB_tag_unique_unique_dict = {}\n",
    "\n",
    "itr = 0\n",
    "while itr < len(NDB_tag_unique):\n",
    "    NDB_tag_unique_unique_dict[NDB_tag_unique[itr]] = itr + 1\n",
    "    itr += 1\n",
    "    \n",
    "nn_label_list = []\n",
    "for i in nlp_df['NDB_ID'].values.tolist():\n",
    "    nn_label_list.append(NDB_tag_unique_unique_dict[i])\n",
    "\n",
    "\n",
    "# only work with the 3000 most popular words found in our dataset\n",
    "max_words = 3000\n",
    "\n",
    "# create a new Tokenizer\n",
    "tokenizer = Tokenizer(num_words=max_words)\n",
    "# feed our tweets to the Tokenizer\n",
    "tokenizer.fit_on_texts(nlp_df['filtered_text'].tolist()) \n",
    "\n",
    "X_train_initial, X_test, y_train_initial, y_test = train_test_split(nlp_df['filtered_text'], nn_label_list, train_size=0.7)\n",
    "X_train, X_dev, y_train, y_dev = train_test_split(nlp_df['filtered_text'], nn_label_list, train_size=0.8)"
   ]
  },
  {
   "cell_type": "code",
   "execution_count": 41,
   "metadata": {
    "collapsed": true
   },
   "outputs": [],
   "source": [
    "with open('/root/w210_capstone/data/models/NDB_tag_unique_unique_dict.json', 'w') as outfile:\n",
    "    json.dump(NDB_tag_unique_unique_dict, outfile)\n",
    "\n",
    "# saving\n",
    "with open('/root/w210_capstone/data/models/tokenizer.pickle', 'wb') as handle:\n",
    "    pickle.dump(tokenizer, handle, protocol=pickle.HIGHEST_PROTOCOL)"
   ]
  },
  {
   "cell_type": "code",
   "execution_count": 42,
   "metadata": {
    "collapsed": true
   },
   "outputs": [],
   "source": [
    "dictionary = tokenizer.word_index\n",
    "# Let's save this out so we can use it later\n",
    "with open('dictionary.json', 'w') as dictionary_file:\n",
    "    json.dump(dictionary, dictionary_file)\n",
    "    \n",
    "def convert_text_to_index_array(text):\n",
    "    # one really important thing that `text_to_word_sequence` does\n",
    "    # is make all texts the same length -- in this case, the length\n",
    "    # of the longest text in the set.\n",
    "    \n",
    "    word_list = []\n",
    "    \n",
    "    for word in kpt.text_to_word_sequence(text):\n",
    "        try:\n",
    "            word_list.append(dictionary[word])\n",
    "            \n",
    "        except:\n",
    "            print(\"Word:\", word, \" not in index...SKIP\")\n",
    "    \n",
    "#     return [dictionary[word] for word in kpt.text_to_word_sequence(text)]\n",
    "    return word_list\n",
    "\n",
    "allWordIndices = []\n",
    "# for each tweet, change each token to its ID in the Tokenizer's word_index\n",
    "for text in X_train.tolist():\n",
    "    wordIndices = convert_text_to_index_array(text)    \n",
    "    allWordIndices.append(wordIndices)\n",
    "\n",
    "# now we have a list of all tweets converted to index arrays.\n",
    "# cast as an array for future usage.\n",
    "allWordIndices = np.asarray(allWordIndices)\n",
    "\n",
    "# create one-hot matrices out of the indexed tweets\n",
    "train_x = tokenizer.sequences_to_matrix(allWordIndices, mode='binary')\n",
    "\n",
    "train_y = keras.utils.to_categorical(np.asarray(y_train))"
   ]
  },
  {
   "cell_type": "code",
   "execution_count": 43,
   "metadata": {
    "collapsed": true
   },
   "outputs": [],
   "source": [
    "allWordIndicesTEST = []\n",
    "# for each tweet, change each token to its ID in the Tokenizer's word_index\n",
    "for text in X_test.tolist():\n",
    "    wordIndicesTEST = convert_text_to_index_array(text)    \n",
    "    allWordIndicesTEST.append(wordIndicesTEST)\n",
    "\n",
    "# now we have a list of all tweets converted to index arrays.\n",
    "# cast as an array for future usage.\n",
    "allWordIndicesTEST = np.asarray(allWordIndicesTEST)\n",
    "\n",
    "# create one-hot matrices out of the indexed tweets\n",
    "test_x = tokenizer.sequences_to_matrix(allWordIndicesTEST, mode='binary')\n",
    "test_y = keras.utils.to_categorical(np.asarray(y_test))\n",
    "\n",
    "if train_y.shape[1] != test_y.shape[1]:\n",
    "    new_test_y_list = []\n",
    "    additional_zero = train_y.shape[1] - test_y.shape[1]\n",
    "    for i in range(test_y.shape[0]):\n",
    "        new_test_y_list.append(test_y[i].tolist() + [0]*additional_zero)\n",
    "    \n",
    "    new_test_y_array = np.asarray(new_test_y_list)\n",
    "    test_y = new_test_y_array.reshape(test_y.shape[0], train_y.shape[1])\n",
    "    \n",
    "\n",
    "    \n",
    "allWordIndicesDEV = []\n",
    "# for each tweet, change each token to its ID in the Tokenizer's word_index\n",
    "for text in X_dev.tolist():\n",
    "    wordIndicesDEV = convert_text_to_index_array(text)    \n",
    "    allWordIndicesDEV.append(wordIndicesDEV)\n",
    "\n",
    "# now we have a list of all tweets converted to index arrays.\n",
    "# cast as an array for future usage.\n",
    "allWordIndicesDEV = np.asarray(allWordIndicesDEV)\n",
    "\n",
    "# create one-hot matrices out of the indexed tweets\n",
    "dev_x = tokenizer.sequences_to_matrix(allWordIndicesDEV, mode='binary')\n",
    "dev_y = keras.utils.to_categorical(np.asarray(y_dev))\n",
    "\n",
    "\n",
    "if train_y.shape[1] != dev_y.shape[1]:\n",
    "    new_dev_y_list = []\n",
    "    additional_zero = train_y.shape[1] - dev_y.shape[1]\n",
    "    for i in range(dev_y.shape[0]):\n",
    "        new_dev_y_list.append(dev_y[i].tolist() + [0]*additional_zero)\n",
    "    \n",
    "    new_dev_y_array = np.asarray(new_dev_y_list)\n",
    "    dev_y = new_dev_y_array.reshape(dev_y.shape[0], train_y.shape[1])"
   ]
  },
  {
   "cell_type": "code",
   "execution_count": 44,
   "metadata": {},
   "outputs": [
    {
     "name": "stdout",
     "output_type": "stream",
     "text": [
      "(2296, 652)\n",
      "(862, 652)\n",
      "(575, 652)\n"
     ]
    }
   ],
   "source": [
    "print(train_y.shape)\n",
    "print(test_y.shape)\n",
    "print(dev_y.shape)"
   ]
  },
  {
   "cell_type": "code",
   "execution_count": 45,
   "metadata": {
    "collapsed": true
   },
   "outputs": [],
   "source": [
    "output_classification =  train_y.shape[-1]"
   ]
  },
  {
   "cell_type": "code",
   "execution_count": 46,
   "metadata": {
    "collapsed": true
   },
   "outputs": [],
   "source": [
    "from keras.models import Sequential\n",
    "from keras.layers import Dense, Dropout, Activation\n",
    "\n",
    "model = Sequential()\n",
    "model.add(Dense(512, input_shape=(max_words,), activation='relu'))\n",
    "model.add(Dropout(0.5))\n",
    "model.add(Dense(256, activation='sigmoid'))\n",
    "model.add(Dropout(0.5))\n",
    "model.add(Dense(output_classification, activation='softmax'))"
   ]
  },
  {
   "cell_type": "code",
   "execution_count": 47,
   "metadata": {
    "collapsed": true
   },
   "outputs": [],
   "source": [
    "model.compile(loss='categorical_crossentropy',\n",
    "  optimizer='adam',\n",
    "  metrics=['accuracy'])"
   ]
  },
  {
   "cell_type": "code",
   "execution_count": 48,
   "metadata": {
    "scrolled": true
   },
   "outputs": [
    {
     "name": "stdout",
     "output_type": "stream",
     "text": [
      "Train on 2296 samples, validate on 575 samples\n",
      "Epoch 1/50\n",
      "2296/2296 [==============================] - 3s 1ms/step - loss: 6.2125 - acc: 0.0226 - val_loss: 5.9291 - val_acc: 0.0574\n",
      "Epoch 2/50\n",
      "2296/2296 [==============================] - 2s 1ms/step - loss: 5.6886 - acc: 0.0588 - val_loss: 5.6727 - val_acc: 0.0783\n",
      "Epoch 3/50\n",
      "2296/2296 [==============================] - 2s 1ms/step - loss: 5.3670 - acc: 0.0845 - val_loss: 5.4142 - val_acc: 0.1183\n",
      "Epoch 4/50\n",
      "2296/2296 [==============================] - 2s 1ms/step - loss: 5.0475 - acc: 0.1259 - val_loss: 5.1943 - val_acc: 0.1791\n",
      "Epoch 5/50\n",
      "2296/2296 [==============================] - 2s 1ms/step - loss: 4.7550 - acc: 0.1816 - val_loss: 4.9555 - val_acc: 0.2487\n",
      "Epoch 6/50\n",
      "2296/2296 [==============================] - 2s 1ms/step - loss: 4.4399 - acc: 0.2491 - val_loss: 4.7273 - val_acc: 0.2852\n",
      "Epoch 7/50\n",
      "2296/2296 [==============================] - 2s 1ms/step - loss: 4.1151 - acc: 0.2962 - val_loss: 4.5376 - val_acc: 0.3409\n",
      "Epoch 8/50\n",
      "2296/2296 [==============================] - 2s 1ms/step - loss: 3.8208 - acc: 0.3493 - val_loss: 4.3187 - val_acc: 0.3843\n",
      "Epoch 9/50\n",
      "2296/2296 [==============================] - 2s 1ms/step - loss: 3.5416 - acc: 0.4033 - val_loss: 4.1421 - val_acc: 0.4226\n",
      "Epoch 10/50\n",
      "2296/2296 [==============================] - 2s 1ms/step - loss: 3.2743 - acc: 0.4399 - val_loss: 3.9830 - val_acc: 0.4539\n",
      "Epoch 11/50\n",
      "2296/2296 [==============================] - 2s 1ms/step - loss: 3.0329 - acc: 0.4717 - val_loss: 3.8645 - val_acc: 0.4765\n",
      "Epoch 12/50\n",
      "2296/2296 [==============================] - 2s 1ms/step - loss: 2.8127 - acc: 0.5044 - val_loss: 3.7356 - val_acc: 0.4991\n",
      "Epoch 13/50\n",
      "2296/2296 [==============================] - 2s 1ms/step - loss: 2.5966 - acc: 0.5449 - val_loss: 3.6147 - val_acc: 0.5183\n",
      "Epoch 14/50\n",
      "2296/2296 [==============================] - 2s 1ms/step - loss: 2.4229 - acc: 0.5706 - val_loss: 3.5083 - val_acc: 0.5478\n",
      "Epoch 15/50\n",
      "2296/2296 [==============================] - 2s 1ms/step - loss: 2.2494 - acc: 0.6076 - val_loss: 3.4264 - val_acc: 0.5704\n",
      "Epoch 16/50\n",
      "2296/2296 [==============================] - 2s 1ms/step - loss: 2.0795 - acc: 0.6324 - val_loss: 3.3346 - val_acc: 0.5843\n",
      "Epoch 17/50\n",
      "2296/2296 [==============================] - 2s 1ms/step - loss: 1.8936 - acc: 0.6616 - val_loss: 3.2636 - val_acc: 0.6087\n",
      "Epoch 18/50\n",
      "2296/2296 [==============================] - 2s 1ms/step - loss: 1.7546 - acc: 0.6903 - val_loss: 3.1973 - val_acc: 0.6174\n",
      "Epoch 19/50\n",
      "2296/2296 [==============================] - 2s 1ms/step - loss: 1.6244 - acc: 0.7139 - val_loss: 3.1064 - val_acc: 0.6243\n",
      "Epoch 20/50\n",
      "2296/2296 [==============================] - 2s 1ms/step - loss: 1.5160 - acc: 0.7343 - val_loss: 3.0637 - val_acc: 0.6417\n",
      "Epoch 21/50\n",
      "2296/2296 [==============================] - 2s 1ms/step - loss: 1.3861 - acc: 0.7526 - val_loss: 3.0048 - val_acc: 0.6452\n",
      "Epoch 22/50\n",
      "2296/2296 [==============================] - 2s 1ms/step - loss: 1.2875 - acc: 0.7709 - val_loss: 2.9504 - val_acc: 0.6643\n",
      "Epoch 23/50\n",
      "2296/2296 [==============================] - 2s 1ms/step - loss: 1.1730 - acc: 0.7914 - val_loss: 2.9135 - val_acc: 0.6661\n",
      "Epoch 24/50\n",
      "2296/2296 [==============================] - 2s 1ms/step - loss: 1.0726 - acc: 0.8023 - val_loss: 2.8813 - val_acc: 0.6730\n",
      "Epoch 25/50\n",
      "2296/2296 [==============================] - 2s 1ms/step - loss: 0.9907 - acc: 0.8206 - val_loss: 2.8554 - val_acc: 0.6748\n",
      "Epoch 26/50\n",
      "2296/2296 [==============================] - 2s 1ms/step - loss: 0.9039 - acc: 0.8354 - val_loss: 2.8201 - val_acc: 0.6800\n",
      "Epoch 27/50\n",
      "2296/2296 [==============================] - 2s 1ms/step - loss: 0.8432 - acc: 0.8454 - val_loss: 2.7878 - val_acc: 0.6887\n",
      "Epoch 28/50\n",
      "2296/2296 [==============================] - 2s 1ms/step - loss: 0.7880 - acc: 0.8532 - val_loss: 2.7712 - val_acc: 0.6904\n",
      "Epoch 29/50\n",
      "2296/2296 [==============================] - 2s 1ms/step - loss: 0.7056 - acc: 0.8746 - val_loss: 2.7544 - val_acc: 0.6870\n",
      "Epoch 30/50\n",
      "2296/2296 [==============================] - 2s 1ms/step - loss: 0.6333 - acc: 0.8942 - val_loss: 2.7468 - val_acc: 0.6835\n",
      "Epoch 31/50\n",
      "2296/2296 [==============================] - 2s 1ms/step - loss: 0.5904 - acc: 0.8920 - val_loss: 2.7154 - val_acc: 0.6957\n",
      "Epoch 32/50\n",
      "2296/2296 [==============================] - 2s 1ms/step - loss: 0.5499 - acc: 0.9029 - val_loss: 2.7104 - val_acc: 0.6922\n",
      "Epoch 33/50\n",
      "2296/2296 [==============================] - 2s 1ms/step - loss: 0.5170 - acc: 0.9098 - val_loss: 2.7007 - val_acc: 0.7009\n",
      "Epoch 34/50\n",
      "2296/2296 [==============================] - 2s 1ms/step - loss: 0.4620 - acc: 0.9238 - val_loss: 2.7025 - val_acc: 0.7061\n",
      "Epoch 35/50\n",
      "2296/2296 [==============================] - 2s 1ms/step - loss: 0.4187 - acc: 0.9338 - val_loss: 2.6842 - val_acc: 0.6991\n",
      "Epoch 36/50\n",
      "2296/2296 [==============================] - 2s 1ms/step - loss: 0.3812 - acc: 0.9425 - val_loss: 2.6670 - val_acc: 0.7061\n",
      "Epoch 37/50\n",
      "2296/2296 [==============================] - 2s 1ms/step - loss: 0.3591 - acc: 0.9447 - val_loss: 2.6760 - val_acc: 0.7130\n",
      "Epoch 38/50\n",
      "2296/2296 [==============================] - 2s 1ms/step - loss: 0.3257 - acc: 0.9547 - val_loss: 2.6814 - val_acc: 0.7043\n",
      "Epoch 39/50\n",
      "2296/2296 [==============================] - 2s 1ms/step - loss: 0.3025 - acc: 0.9599 - val_loss: 2.6722 - val_acc: 0.7078\n",
      "Epoch 40/50\n",
      "2296/2296 [==============================] - 2s 1ms/step - loss: 0.2679 - acc: 0.9643 - val_loss: 2.6700 - val_acc: 0.7026\n",
      "Epoch 41/50\n",
      "2296/2296 [==============================] - 2s 1ms/step - loss: 0.2581 - acc: 0.9673 - val_loss: 2.6572 - val_acc: 0.7113\n",
      "Epoch 42/50\n",
      "2296/2296 [==============================] - 2s 1ms/step - loss: 0.2404 - acc: 0.9726 - val_loss: 2.6604 - val_acc: 0.7078\n",
      "Epoch 43/50\n",
      "2296/2296 [==============================] - 2s 1ms/step - loss: 0.2192 - acc: 0.9699 - val_loss: 2.6588 - val_acc: 0.7043\n",
      "Epoch 44/50\n",
      "2296/2296 [==============================] - 2s 1ms/step - loss: 0.2137 - acc: 0.9717 - val_loss: 2.6538 - val_acc: 0.7043\n",
      "Epoch 45/50\n",
      "2296/2296 [==============================] - 2s 1ms/step - loss: 0.2048 - acc: 0.9743 - val_loss: 2.6564 - val_acc: 0.7113\n",
      "Epoch 46/50\n",
      "2296/2296 [==============================] - 2s 1ms/step - loss: 0.1880 - acc: 0.9760 - val_loss: 2.6410 - val_acc: 0.7200\n",
      "Epoch 47/50\n",
      "2296/2296 [==============================] - 2s 1ms/step - loss: 0.1748 - acc: 0.9765 - val_loss: 2.6630 - val_acc: 0.7148\n",
      "Epoch 48/50\n",
      "2296/2296 [==============================] - 2s 1ms/step - loss: 0.1613 - acc: 0.9808 - val_loss: 2.6574 - val_acc: 0.7217\n",
      "Epoch 49/50\n",
      "2296/2296 [==============================] - 2s 1ms/step - loss: 0.1603 - acc: 0.9813 - val_loss: 2.6690 - val_acc: 0.7217\n",
      "Epoch 50/50\n",
      "2296/2296 [==============================] - 2s 1ms/step - loss: 0.1481 - acc: 0.9804 - val_loss: 2.6813 - val_acc: 0.7183\n"
     ]
    }
   ],
   "source": [
    "history = model.fit(train_x, train_y,\n",
    "  batch_size=32,\n",
    "  epochs=50,\n",
    "  verbose=1,\n",
    "  validation_split=0.1,\n",
    "  shuffle=True,\n",
    "  validation_data=(dev_x, dev_y))"
   ]
  },
  {
   "cell_type": "code",
   "execution_count": 49,
   "metadata": {
    "collapsed": true
   },
   "outputs": [],
   "source": [
    "model_json = model.to_json()\n",
    "with open('/root/w210_capstone/data/models/model_simple_nn.json', 'w') as json_file:\n",
    "    json_file.write(model_json)\n",
    "\n",
    "model.save_weights('/root/w210_capstone/data/models/model_simple_nn_WEIGHTS.h5')"
   ]
  },
  {
   "cell_type": "code",
   "execution_count": 50,
   "metadata": {},
   "outputs": [
    {
     "data": {
      "text/plain": [
       "<matplotlib.legend.Legend at 0x7ff49e268978>"
      ]
     },
     "execution_count": 50,
     "metadata": {},
     "output_type": "execute_result"
    },
    {
     "data": {
      "image/png": "[encoded data removed]",
      "text/plain": [
       "<matplotlib.figure.Figure at 0x7ff49e1fb588>"
      ]
     },
     "metadata": {},
     "output_type": "display_data"
    }
   ],
   "source": [
    "import matplotlib.pyplot as plt\n",
    "%matplotlib inline\n",
    "\n",
    "# plot the training loss and accuracy\n",
    "plt.style.use(\"ggplot\")\n",
    "plt.figure(figsize=(20, 10))\n",
    "N = 50\n",
    "plt.plot(np.arange(0, N), history.history[\"loss\"], label=\"train_loss\")\n",
    "plt.plot(np.arange(0, N), history.history[\"val_loss\"], label=\"val_loss\")\n",
    "plt.plot(np.arange(0, N), history.history[\"acc\"], label=\"train_acc\")\n",
    "plt.plot(np.arange(0, N), history.history[\"val_acc\"], label=\"val_acc\")\n",
    "plt.title(\"Training Loss and Accuracy\")\n",
    "plt.xlabel(\"Epoch #\")\n",
    "plt.ylabel(\"Loss/Accuracy\")\n",
    "plt.legend(loc=\"upper left\")"
   ]
  },
  {
   "cell_type": "code",
   "execution_count": 51,
   "metadata": {},
   "outputs": [
    {
     "name": "stdout",
     "output_type": "stream",
     "text": [
      "0.945475638051\n"
     ]
    }
   ],
   "source": [
    "y_predict_array = model.predict(test_x)\n",
    "y_predict_int_list = []\n",
    "itr = 0\n",
    "while itr < len(y_predict_array):\n",
    "    y_predict_int_list.append(y_predict_array[itr].argmax())\n",
    "    itr += 1\n",
    "    \n",
    "y_predict_list = []\n",
    "for i in y_predict_int_list:\n",
    "    for key in NDB_tag_unique_unique_dict.keys():\n",
    "        if NDB_tag_unique_unique_dict[key] == i:\n",
    "            y_predict_list.append(key)\n",
    "            \n",
    "test_y_raw_list = []\n",
    "for i in y_test:   \n",
    "    for key in NDB_tag_unique_unique_dict.keys():        \n",
    "        if NDB_tag_unique_unique_dict[key] == i:\n",
    "            test_y_raw_list.append(key)\n",
    "\n",
    "output_df = pd.DataFrame([y_predict_list, test_y_raw_list]).transpose()\n",
    "output_df.columns = [\"y_predict_list\", \"y_test\"]\n",
    "output_df['Description_predict'] = ''\n",
    "output_df['Description_test'] = ''\n",
    "\n",
    "print((output_df['y_predict_list'] == output_df['y_test']).mean())"
   ]
  }
 ],
 "metadata": {
  "kernelspec": {
   "display_name": "Python 3",
   "language": "python",
   "name": "python3"
  },
  "language_info": {
   "codemirror_mode": {
    "name": "ipython",
    "version": 3
   },
   "file_extension": ".py",
   "mimetype": "text/x-python",
   "name": "python",
   "nbconvert_exporter": "python",
   "pygments_lexer": "ipython3",
   "version": "3.6.3"
  }
 },
 "nbformat": 4,
 "nbformat_minor": 2
}
