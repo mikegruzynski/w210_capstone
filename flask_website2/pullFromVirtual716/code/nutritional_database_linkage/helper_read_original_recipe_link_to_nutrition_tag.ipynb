{
 "cells": [
  {
   "cell_type": "code",
   "execution_count": 1,
   "metadata": {
    "collapsed": true
   },
   "outputs": [],
   "source": [
    "import json\n",
    "import pandas as pd\n",
    "import numpy as np\n",
    "import re "
   ]
  },
  {
   "cell_type": "code",
   "execution_count": 2,
   "metadata": {
    "collapsed": true
   },
   "outputs": [],
   "source": [
    "master_df = pd.read_csv('../../data/nutrient/compiled/nutrition_master_df.csv')\n",
    "anna_df = pd.read_csv('/root/w210_capstone/data/recipe/anna_help.csv')\n",
    "\n",
    "\n",
    "with open('../../data/recipe/recipe_all.json') as f:\n",
    "    data = json.load(f)"
   ]
  },
  {
   "cell_type": "code",
   "execution_count": 3,
   "metadata": {},
   "outputs": [
    {
     "name": "stdout",
     "output_type": "stream",
     "text": [
      "Pork Tostadas with Corn Salsa\n",
      "\n",
      "\n",
      "0 2 pounds boneless pork shoulder cut into 2-inch pieces\n",
      "1 2 yellow or white onions\n",
      "2 3 tablespoons distilled white vinegar\n",
      "3 2 garlic cloves minced\n",
      "4 3 tablespoons vegetable oil plus additional for frying the tortillas\n",
      "5 3 ears of corn\n",
      "6 2 tomatoes chopped fine\n",
      "7 1/2 cup finely chopped red onion\n",
      "8 1 to 2 fresh jalapeño chilies including the seeds or to taste minced (wear rubber gloves)\n",
      "9 1/2 cup loosely packed fresh coriander chopped fine\n",
      "10 4 tablespoons fresh lime juice\n",
      "11 2 avocados (preferably California)\n",
      "12 eight 7-inch corn tortillas\n",
      "\n",
      "\n",
      "\"\"\n"
     ]
    }
   ],
   "source": [
    "ID = 'RECIPE_17991'\n",
    "\n",
    "print(data[ID]['name'])\n",
    "print('\\n')\n",
    "itr = 0\n",
    "for i in data[ID]['ingredients']:\n",
    "    print(itr, i)\n",
    "    itr +=1\n",
    "\n",
    "print('\\n')\n",
    "print(data[ID]['servings'])"
   ]
  },
  {
   "cell_type": "code",
   "execution_count": 43,
   "metadata": {},
   "outputs": [
    {
     "data": {
      "text/html": [
       "<div>\n",
       "<style>\n",
       "    .dataframe thead tr:only-child th {\n",
       "        text-align: right;\n",
       "    }\n",
       "\n",
       "    .dataframe thead th {\n",
       "        text-align: left;\n",
       "    }\n",
       "\n",
       "    .dataframe tbody tr th {\n",
       "        vertical-align: top;\n",
       "    }\n",
       "</style>\n",
       "<table border=\"1\" class=\"dataframe\">\n",
       "  <thead>\n",
       "    <tr style=\"text-align: right;\">\n",
       "      <th></th>\n",
       "      <th>Description</th>\n",
       "      <th>NDB_NO</th>\n",
       "    </tr>\n",
       "  </thead>\n",
       "  <tbody>\n",
       "    <tr>\n",
       "      <th>6278</th>\n",
       "      <td>soup, mushroom with beef stock, canned, condensed</td>\n",
       "      <td>\"06044\"</td>\n",
       "    </tr>\n",
       "    <tr>\n",
       "      <th>6279</th>\n",
       "      <td>soup, mushroom with beef stock, canned, prepar...</td>\n",
       "      <td>\"06444\"</td>\n",
       "    </tr>\n",
       "    <tr>\n",
       "      <th>6298</th>\n",
       "      <td>soup, stock, beef, home-prepared</td>\n",
       "      <td>\"06170\"</td>\n",
       "    </tr>\n",
       "    <tr>\n",
       "      <th>6299</th>\n",
       "      <td>soup, stock, chicken, home-prepared</td>\n",
       "      <td>\"06172\"</td>\n",
       "    </tr>\n",
       "    <tr>\n",
       "      <th>6300</th>\n",
       "      <td>soup, stock, fish, home-prepared</td>\n",
       "      <td>\"06174\"</td>\n",
       "    </tr>\n",
       "  </tbody>\n",
       "</table>\n",
       "</div>"
      ],
      "text/plain": [
       "                                            Description   NDB_NO\n",
       "6278  soup, mushroom with beef stock, canned, condensed  \"06044\"\n",
       "6279  soup, mushroom with beef stock, canned, prepar...  \"06444\"\n",
       "6298                   soup, stock, beef, home-prepared  \"06170\"\n",
       "6299                soup, stock, chicken, home-prepared  \"06172\"\n",
       "6300                   soup, stock, fish, home-prepared  \"06174\""
      ]
     },
     "execution_count": 43,
     "metadata": {},
     "output_type": "execute_result"
    }
   ],
   "source": [
    "b=master_df[(master_df['Description'].str.contains('')) &\n",
    "          (master_df['Description'].str.contains('stock'))][['Description', \"NDB_NO\"]]\n",
    "\n",
    "b"
   ]
  },
  {
   "cell_type": "code",
   "execution_count": 35,
   "metadata": {
    "collapsed": true
   },
   "outputs": [],
   "source": [
    "for i in b['Description']:\n",
    "    print(i)"
   ]
  },
  {
   "cell_type": "code",
   "execution_count": 13,
   "metadata": {},
   "outputs": [
    {
     "data": {
      "text/plain": [
       "'bread, pita, white, enriched'"
      ]
     },
     "execution_count": 13,
     "metadata": {},
     "output_type": "execute_result"
    }
   ],
   "source": [
    "master_df[master_df['NDB_NO'] == '\"18041\"'][['Description']].get_values()[0][0]"
   ]
  },
  {
   "cell_type": "code",
   "execution_count": 14,
   "metadata": {
    "scrolled": true
   },
   "outputs": [
    {
     "data": {
      "text/html": [
       "<div>\n",
       "<style>\n",
       "    .dataframe thead tr:only-child th {\n",
       "        text-align: right;\n",
       "    }\n",
       "\n",
       "    .dataframe thead th {\n",
       "        text-align: left;\n",
       "    }\n",
       "\n",
       "    .dataframe tbody tr th {\n",
       "        vertical-align: top;\n",
       "    }\n",
       "</style>\n",
       "<table border=\"1\" class=\"dataframe\">\n",
       "  <thead>\n",
       "    <tr style=\"text-align: right;\">\n",
       "      <th></th>\n",
       "      <th>Description</th>\n",
       "      <th>Protein (g)</th>\n",
       "    </tr>\n",
       "  </thead>\n",
       "  <tbody>\n",
       "    <tr>\n",
       "      <th>3399</th>\n",
       "      <td>fish, cod, atlantic, raw</td>\n",
       "      <td>NaN</td>\n",
       "    </tr>\n",
       "  </tbody>\n",
       "</table>\n",
       "</div>"
      ],
      "text/plain": [
       "                   Description  Protein (g)\n",
       "3399  fish, cod, atlantic, raw          NaN"
      ]
     },
     "execution_count": 14,
     "metadata": {},
     "output_type": "execute_result"
    }
   ],
   "source": [
    "master_df[master_df['NDB_NO'] == '\"15015\"'][['Description', 'Protein (g)']]"
   ]
  }
 ],
 "metadata": {
  "kernelspec": {
   "display_name": "Python 3",
   "language": "python",
   "name": "python3"
  },
  "language_info": {
   "codemirror_mode": {
    "name": "ipython",
    "version": 3
   },
   "file_extension": ".py",
   "mimetype": "text/x-python",
   "name": "python",
   "nbconvert_exporter": "python",
   "pygments_lexer": "ipython3",
   "version": "3.6.3"
  }
 },
 "nbformat": 4,
 "nbformat_minor": 2
}
