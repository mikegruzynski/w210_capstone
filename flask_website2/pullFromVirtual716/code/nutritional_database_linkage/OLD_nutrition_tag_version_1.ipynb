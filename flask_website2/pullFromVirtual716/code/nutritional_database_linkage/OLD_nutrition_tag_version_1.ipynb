{
 "cells": [
  {
   "cell_type": "code",
   "execution_count": 1,
   "metadata": {},
   "outputs": [
    {
     "name": "stdout",
     "output_type": "stream",
     "text": [
      "height has been deprecated.\n",
      "\n"
     ]
    }
   ],
   "source": [
    "import json\n",
    "import pandas as pd\n",
    "pd.set_option('display.height', 1000)\n",
    "pd.set_option('display.max_rows', 500)\n",
    "pd.set_option('display.max_columns', 500)\n",
    "pd.set_option('display.width', 1000)\n",
    "import numpy as np\n",
    "import re "
   ]
  },
  {
   "cell_type": "code",
   "execution_count": 2,
   "metadata": {
    "collapsed": true
   },
   "outputs": [],
   "source": [
    "master_df = pd.read_csv(\"../../data/nutrient/compiled/nutrition_master_df.csv\")\n",
    "\n",
    "with open('../../data/recipe/NDB_NO_tag_dict.json') as f:\n",
    "    NDB_NO_tag_dict = json.load(f)"
   ]
  },
  {
   "cell_type": "code",
   "execution_count": 3,
   "metadata": {},
   "outputs": [
    {
     "data": {
      "text/plain": [
       "923"
      ]
     },
     "execution_count": 3,
     "metadata": {},
     "output_type": "execute_result"
    }
   ],
   "source": [
    "with open('../../data/recipe/recipe_clean_maura_v1.json') as f:\n",
    "    clean_recipe_dict = json.load(f)\n",
    "    \n",
    "len(clean_recipe_dict.keys())"
   ]
  },
  {
   "cell_type": "code",
   "execution_count": 14,
   "metadata": {
    "scrolled": true
   },
   "outputs": [
    {
     "name": "stdout",
     "output_type": "stream",
     "text": [
      "RECIPE_14972\n",
      "INSIDE DICTIONARY ALREADY pieces skinless hake or Pacific cod fillet (1/2 to 1 1/4 inches thick)\n",
      "INSIDE DICTIONARY ALREADY fresh lime juice\n",
      "INSIDE DICTIONARY ALREADY finely chopped bottled malagueta peppers or 1/4 teaspoon dried hot red-pepper flakes\n",
      "INSIDE DICTIONARY ALREADY finely chopped garlic (3 cloves)\n",
      "INSIDE DICTIONARY ALREADY salt\n",
      "INSIDE DICTIONARY ALREADY extra-large shrimp in shell (16 to 20 per pound) peeled and deveined reserving shells if making soft manioc polenta as accompaniment\n",
      "INSIDE DICTIONARY ALREADY pound tomatoes cut into 1/2-inch cubes\n",
      "INSIDE DICTIONARY ALREADY onion chopped\n",
      "INSIDE DICTIONARY ALREADY chopped green bell pepper\n",
      "INSIDE DICTIONARY ALREADY chopped yellow bell pepper\n",
      "INSIDE DICTIONARY ALREADY plantains peeled and each cut diagonally into 8 pieces\n",
      "INSIDE DICTIONARY ALREADY finely chopped fresh cilantro\n",
      "INSIDE DICTIONARY ALREADY finely chopped fresh flat-leaf parsley\n",
      "INSIDE DICTIONARY ALREADY extra-virgin olive oil\n",
      "INSIDE DICTIONARY ALREADY manioc polenta ; malagueta pepper sauce\n",
      "RECIPE_8272\n",
      "INSIDE DICTIONARY ALREADY crème de cacao\n",
      "INSIDE DICTIONARY ALREADY apricot brandy\n",
      "INSIDE DICTIONARY ALREADY heavy cream\n",
      "INSIDE DICTIONARY ALREADY \n",
      "RECIPE_59130\n",
      "INSIDE DICTIONARY ALREADY iced tea (homemade or store-bought)\n",
      "INSIDE DICTIONARY ALREADY fresh lemon juice (1 to 2 lemons)\n",
      "INSIDE DICTIONARY ALREADY grenadine\n",
      "INSIDE DICTIONARY ALREADY serving\n",
      "RECIPE_24915\n",
      "INSIDE DICTIONARY ALREADY butter\n",
      "INSIDE DICTIONARY ALREADY vegetable oil\n",
      "INSIDE DICTIONARY ALREADY onion chopped\n",
      "INSIDE DICTIONARY ALREADY cloves sliced\n",
      "INSIDE DICTIONARY ALREADY minced fresh rosemary\n",
      "INSIDE DICTIONARY ALREADY chicken stock or canned low-salt broth\n",
      "INSIDE DICTIONARY ALREADY potato peeled sliced\n",
      "INSIDE DICTIONARY ALREADY zucchini\n",
      "INSIDE DICTIONARY ALREADY zucchini\n",
      "INSIDE DICTIONARY ALREADY \n",
      "INSIDE DICTIONARY ALREADY onions\n",
      "RECIPE_11023\n",
      "INSIDE DICTIONARY ALREADY phyllo pastry sheets or frozen thawed (each about 17x13 inches) stacked and halved crosswise forming eighteen 8 1/2x13-inch rectangles\n",
      "INSIDE DICTIONARY ALREADY (1 1/4 sticks) unsalted butter melted\n",
      "INSIDE DICTIONARY ALREADY (about) sugar\n",
      "INSIDE DICTIONARY ALREADY (about) finely chopped toasted hazelnuts\n",
      "INSIDE DICTIONARY ALREADY eggs separated\n",
      "INSIDE DICTIONARY ALREADY sugar\n",
      "INSIDE DICTIONARY ALREADY (1/2 stick) unsalted butter cut into 1/2-inch pieces\n",
      "INSIDE DICTIONARY ALREADY water\n",
      "INSIDE DICTIONARY ALREADY instant espresso powder\n",
      "INSIDE DICTIONARY ALREADY bittersweet (not unsweetened) or semisweet chocolate chopped\n",
      "INSIDE DICTIONARY ALREADY basket fresh raspberries\n",
      "INSIDE DICTIONARY ALREADY pears peeled diced\n",
      "RECIPE_15403\n",
      "INSIDE DICTIONARY ALREADY hoisin sauce\n",
      "INSIDE DICTIONARY ALREADY rice vinegar (not seasoned)\n",
      "INSIDE DICTIONARY ALREADY soy sauce\n",
      "INSIDE DICTIONARY ALREADY minced garlic\n",
      "INSIDE DICTIONARY ALREADY minced scallions\n",
      "INSIDE DICTIONARY ALREADY honey\n",
      "INSIDE DICTIONARY ALREADY salt\n",
      "INSIDE DICTIONARY ALREADY 1/2- to 7 1/2-pound whole leg of lamb trimmed boned and butterflied (4 1/2 to 5 1/2 pounds boneless)\n",
      "INSIDE DICTIONARY ALREADY \n",
      "INSIDE DICTIONARY ALREADY with Garlic Sauce\n",
      "RECIPE_74269\n",
      "INSIDE DICTIONARY ALREADY bag fresh cranberries\n",
      "INSIDE DICTIONARY ALREADY cranberry juice\n",
      "INSIDE DICTIONARY ALREADY pure maple syrup\n",
      "INSIDE DICTIONARY ALREADY orange juice\n",
      "INSIDE DICTIONARY ALREADY grated orange rind\n",
      "RECIPE_23276\n",
      "INSIDE DICTIONARY ALREADY room-temperature cream cheese\n",
      "INSIDE DICTIONARY ALREADY room-temperature feta crumbled\n",
      "INSIDE DICTIONARY ALREADY room-temperature unsalted butter\n",
      "INSIDE DICTIONARY ALREADY capers\n",
      "INSIDE DICTIONARY ALREADY oregano leaves\n",
      "INSIDE DICTIONARY ALREADY toasted fennel seeds\n",
      "1 teaspoon finely grated lemon zest\n",
      "\n",
      "INSIDE DICTIONARY ALREADY \n",
      "INSIDE DICTIONARY ALREADY chopped toasted pine nuts\n",
      "INSIDE DICTIONARY ALREADY \n",
      "RECIPE_80335\n",
      "INSIDE DICTIONARY ALREADY large Yukon gold potatoes peeled and cut in 3/4-inch chunks\n",
      "INSIDE DICTIONARY ALREADY garlic cloves\n",
      "INSIDE DICTIONARY ALREADY and freshly ground black pepper\n",
      "INSIDE DICTIONARY ALREADY 8 ounces garlic-and-herb goat cheese at room temperature such as Montrachet\n",
      "INSIDE DICTIONARY ALREADY (1/2 stick) unsalted butter at room temperature\n",
      "INSIDE DICTIONARY ALREADY cups sour cream\n",
      "INSIDE DICTIONARY ALREADY half-and-half or milk\n",
      "INSIDE DICTIONARY ALREADY freshly grated Parmesan cheese\n",
      "RECIPE_14136\n",
      "INSIDE DICTIONARY ALREADY lime juice\n",
      "INSIDE DICTIONARY ALREADY superfine sugar\n",
      "INSIDE DICTIONARY ALREADY ice\n",
      "INSIDE DICTIONARY ALREADY 3 ounces rum\n",
      "INSIDE DICTIONARY ALREADY Angostura bitters\n",
      "INSIDE DICTIONARY ALREADY club soda\n",
      "INSIDE DICTIONARY ALREADY \n",
      "INSIDE DICTIONARY ALREADY \n",
      "INSIDE DICTIONARY ALREADY \n",
      "INSIDE DICTIONARY ALREADY \n",
      "RECIPE_20106\n",
      "INSIDE DICTIONARY ALREADY coarsely ground black pepper\n",
      "INSIDE DICTIONARY ALREADY (packed) dark brown sugar\n",
      "INSIDE DICTIONARY ALREADY paprika\n",
      "INSIDE DICTIONARY ALREADY coarse salt\n",
      "INSIDE DICTIONARY ALREADY cayenne pepper\n",
      "INSIDE DICTIONARY ALREADY boneless pork shoulder halves (also known as Boston butt; about 6 pounds total)\n",
      "INSIDE DICTIONARY ALREADY apple cider vinegar\n",
      "INSIDE DICTIONARY ALREADY water\n",
      "INSIDE DICTIONARY ALREADY Worcestershire sauce\n",
      "INSIDE DICTIONARY ALREADY coarsely ground black pepper\n",
      "INSIDE DICTIONARY ALREADY coarse salt\n",
      "INSIDE DICTIONARY ALREADY vegetable oil\n",
      "INSIDE DICTIONARY ALREADY (about) 100% natural lump charcoal or charcoal briquettes\n",
      "INSIDE DICTIONARY ALREADY (about) hickory wood smoke chips soaked in cold water at least 30 minutes\n",
      "INSIDE DICTIONARY ALREADY hamburger buns with seeds split\n",
      "INSIDE DICTIONARY ALREADY Barbecue Sauce\n",
      "INSIDE DICTIONARY ALREADY \n",
      "RECIPE_20297\n",
      "INSIDE DICTIONARY ALREADY Jewish-style rye bread divided\n",
      "INSIDE DICTIONARY ALREADY \n",
      "INSIDE DICTIONARY ALREADY thinly sliced corned beef reserved from Homemade Irish Corned Beef and Vegetables\n",
      "INSIDE DICTIONARY ALREADY thinly sliced Fontina cheese\n",
      "INSIDE DICTIONARY ALREADY onion (such as Maui or Vidalia) thinly sliced\n",
      "INSIDE DICTIONARY ALREADY (1/2 stick) butter divided\n",
      "RECIPE_78663\n",
      "INSIDE DICTIONARY ALREADY unsalted butter\n",
      "INSIDE DICTIONARY ALREADY mini marshmallows\n",
      "INSIDE DICTIONARY ALREADY honey\n",
      "INSIDE DICTIONARY ALREADY pure vanilla extract\n",
      "INSIDE DICTIONARY ALREADY salt\n",
      "INSIDE DICTIONARY ALREADY crispy brown rice cereal\n",
      "INSIDE DICTIONARY ALREADY puffed millet\n",
      "RECIPE_65919\n",
      "INSIDE DICTIONARY ALREADY eggplants\n",
      "for purging\n",
      "exi\n",
      "INSIDE DICTIONARY ALREADY olive oil\n",
      "INSIDE DICTIONARY ALREADY garlic minced\n",
      "INSIDE DICTIONARY ALREADY chile flakes\n",
      "INSIDE DICTIONARY ALREADY tomatoes seeded and chopped\n",
      "INSIDE DICTIONARY ALREADY cream\n",
      "INSIDE DICTIONARY ALREADY basil chiffonade\n",
      "INSIDE DICTIONARY ALREADY freshly grated Parmesan\n",
      "INSIDE DICTIONARY ALREADY pepper\n",
      "RECIPE_55436\n",
      "INSIDE DICTIONARY ALREADY (2 sticks) unsalted butter at room temperature\n",
      "INSIDE DICTIONARY ALREADY sugar\n",
      "INSIDE DICTIONARY ALREADY pure vanilla extract\n",
      "INSIDE DICTIONARY ALREADY all-purpose flour\n",
      "INSIDE DICTIONARY ALREADY kosher salt\n",
      "INSIDE DICTIONARY ALREADY 12 ounces good raspberry jam such as Hero\n",
      "INSIDE DICTIONARY ALREADY good granola without dried fruit\n",
      "INSIDE DICTIONARY ALREADY sliced almonds\n",
      "INSIDE DICTIONARY ALREADY for sprinkling\n",
      "RECIPE_65166\n",
      "for frying\n",
      "exit\n"
     ]
    },
    {
     "ename": "SystemExit",
     "evalue": "",
     "output_type": "error",
     "traceback": [
      "An exception has occurred, use %tb to see the full traceback.\n",
      "\u001b[1;31mSystemExit\u001b[0m\n"
     ]
    }
   ],
   "source": [
    "import sys\n",
    "\n",
    "for recipe in clean_recipe_dict.keys():\n",
    "    print recipe\n",
    "    clean_recipe_dict[recipe]['NDB_NO_tags'] = []\n",
    "    for ingredient in clean_recipe_dict[recipe]['ingredients']:\n",
    "        ingredient_split = ingredient.split(\" \")\n",
    "        ingredient_split = filter(None, ingredient_split)\n",
    "        ingredient_new = \" \".join(ingredient_split[2:])\n",
    "        \n",
    "        try:\n",
    "            clean_recipe_dict[recipe]['NDB_NO_tags'].append(NDB_NO_tag_dict[ingredient_new])\n",
    "            print \"INSIDE DICTIONARY ALREADY\", ingredient_new\n",
    "        except:\n",
    "            if 'zest' in ingredient:\n",
    "                print ingredient\n",
    "                raw_input_return = raw_input()\n",
    "                clean_recipe_dict[recipe]['NDB_NO_tags'].append(raw_input_return)\n",
    "                \n",
    "            else:\n",
    "                print ingredient_new\n",
    "                raw_input_return = raw_input()\n",
    "\n",
    "                if raw_input_return == 'exit':\n",
    "                    sys.exit()\n",
    "\n",
    "                NDB_NO_tag_dict[ingredient_new] = raw_input_return\n",
    "                clean_recipe_dict[recipe]['NDB_NO_tags'].append(raw_input_return)\n",
    "            \n",
    "    \n",
    "    with open('../../data/recipe/recipe_clean_TEMP.json', 'w') as f:\n",
    "        json.dump(clean_recipe_dict, f)\n",
    "    with open('../../data/recipe/NDB_NO_tag_dict_TEMP.json', 'w') as f:\n",
    "        json.dump(NDB_NO_tag_dict, f)"
   ]
  },
  {
   "cell_type": "code",
   "execution_count": 18,
   "metadata": {
    "scrolled": true
   },
   "outputs": [
    {
     "data": {
      "text/plain": [
       "[u'Peanut oil for frying',\n",
       " u'2 cups panko bread crumbs*',\n",
       " u'3 eggs',\n",
       " u'Kosher salt and freshly ground black pepper',\n",
       " u'2 pounds halibut snapper or other firm flesh white fish',\n",
       " u'8 corn tortillas',\n",
       " u'1/2 head napa cabbage shredded',\n",
       " u'Pink Chili Mayo recipe follows',\n",
       " u'Lime wedges for garnish',\n",
       " u'1 1/2 cups mayonnaise',\n",
       " u'1 1/2 cups sour cream',\n",
       " u'2 canned chipotle peppers in adobo sauce',\n",
       " u'Juice 1/2 lime',\n",
       " u'Kosher salt and freshly ground black pepper']"
      ]
     },
     "execution_count": 18,
     "metadata": {},
     "output_type": "execute_result"
    }
   ],
   "source": [
    "ID = 'RECIPE_65166'\n",
    "clean_recipe_dict[ID]['ingredients']"
   ]
  },
  {
   "cell_type": "code",
   "execution_count": 16,
   "metadata": {
    "collapsed": true
   },
   "outputs": [],
   "source": [
    "clean_recipe_dict[ID]['ingredients'][1] = '1 tablespoon salt'"
   ]
  },
  {
   "cell_type": "code",
   "execution_count": null,
   "metadata": {
    "collapsed": true
   },
   "outputs": [],
   "source": [
    "NDB_NO_tag_dict['boneless leg of lamb butterflied'] = \"17300\""
   ]
  },
  {
   "cell_type": "code",
   "execution_count": null,
   "metadata": {
    "collapsed": true
   },
   "outputs": [],
   "source": [
    "len(NDB_NO_tag_dict.keys())"
   ]
  }
 ],
 "metadata": {
  "kernelspec": {
   "display_name": "Python 3",
   "language": "python",
   "name": "python3"
  },
  "language_info": {
   "codemirror_mode": {
    "name": "ipython",
    "version": 3
   },
   "file_extension": ".py",
   "mimetype": "text/x-python",
   "name": "python",
   "nbconvert_exporter": "python",
   "pygments_lexer": "ipython3",
   "version": "3.6.3"
  }
 },
 "nbformat": 4,
 "nbformat_minor": 2
}
